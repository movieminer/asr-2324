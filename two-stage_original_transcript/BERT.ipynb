{
 "cells": [
  {
   "cell_type": "code",
   "execution_count": 24,
   "metadata": {},
   "outputs": [],
   "source": [
    "import pandas as pd\n",
    "import numpy as np\n",
    "import os\n",
    "\n",
    "os.environ['HF_HOME'] = '/vol/tensusers3/jdusseljee/hf_home'\n",
    "\n",
    "import torch\n",
    "from torch import nn\n",
    "import torch.nn.functional as F\n",
    "from torch.utils.data import DataLoader, Dataset\n",
    "from torch.optim import AdamW\n",
    "from transformers import AutoModel, AutoTokenizer, get_linear_schedule_with_warmup\n",
    "from sklearn.model_selection import train_test_split, StratifiedKFold\n",
    "from sklearn.metrics import accuracy_score, classification_report\n",
    "from tqdm import tqdm\n",
    "import matplotlib.pyplot as plt\n",
    "import json\n",
    "from sklearn.metrics import roc_auc_score"
   ]
  },
  {
   "cell_type": "code",
   "execution_count": 11,
   "metadata": {},
   "outputs": [],
   "source": [
    "class Paths:\n",
    "  meta_data = '../datasets/addresso/train/meta_data.csv'\n",
    "  transcripts = '../datasets/addresso/train/transcription/'\n",
    "  concatenated = '../datasets/addresso/train/concatenated/'\n",
    "  normalised = '../datasets/addresso/train/normalised/'\n",
    "  text_participants = '../datasets/addresso/train/text_participants/'\n",
    "  text_both = '../datasets/addresso/train/text_both/'\n",
    "  whisper_transcript = '../datasets/addresso/train/whisper_transcript/'\n",
    "\n",
    "class Config:\n",
    "  bert_model_name = 'bert-base-uncased'\n",
    "  num_classes = 2\n",
    "  max_length = 512\n",
    "  batch_size = 16\n",
    "  num_epochs = 10\n",
    "  learning_rate = 5e-5\n",
    "  folds = 5\n",
    "  drop_rate = .5\n",
    "  weight_decay=0.1"
   ]
  },
  {
   "cell_type": "code",
   "execution_count": 12,
   "metadata": {},
   "outputs": [
    {
     "data": {
      "text/html": [
       "<div>\n",
       "<style scoped>\n",
       "    .dataframe tbody tr th:only-of-type {\n",
       "        vertical-align: middle;\n",
       "    }\n",
       "\n",
       "    .dataframe tbody tr th {\n",
       "        vertical-align: top;\n",
       "    }\n",
       "\n",
       "    .dataframe thead th {\n",
       "        text-align: right;\n",
       "    }\n",
       "</style>\n",
       "<table border=\"1\" class=\"dataframe\">\n",
       "  <thead>\n",
       "    <tr style=\"text-align: right;\">\n",
       "      <th></th>\n",
       "      <th>ID</th>\n",
       "      <th>age</th>\n",
       "      <th>gender</th>\n",
       "      <th>mmse</th>\n",
       "      <th>class</th>\n",
       "      <th>text</th>\n",
       "    </tr>\n",
       "  </thead>\n",
       "  <tbody>\n",
       "    <tr>\n",
       "      <th>0</th>\n",
       "      <td>S001</td>\n",
       "      <td>74</td>\n",
       "      <td>male</td>\n",
       "      <td>NaN</td>\n",
       "      <td>0</td>\n",
       "      <td>Well there's a mother standing there washing t...</td>\n",
       "    </tr>\n",
       "    <tr>\n",
       "      <th>1</th>\n",
       "      <td>S002</td>\n",
       "      <td>62</td>\n",
       "      <td>female</td>\n",
       "      <td>30.0</td>\n",
       "      <td>0</td>\n",
       "      <td>Somebody's getting cookies out_of the cookie j...</td>\n",
       "    </tr>\n",
       "    <tr>\n",
       "      <th>2</th>\n",
       "      <td>S003</td>\n",
       "      <td>69</td>\n",
       "      <td>female</td>\n",
       "      <td>29.0</td>\n",
       "      <td>0</td>\n",
       "      <td>Okay.\\nThere's a little boy and he's standing ...</td>\n",
       "    </tr>\n",
       "    <tr>\n",
       "      <th>3</th>\n",
       "      <td>S004</td>\n",
       "      <td>71</td>\n",
       "      <td>female</td>\n",
       "      <td>30.0</td>\n",
       "      <td>0</td>\n",
       "      <td>Are you ready?\\nWell the sink is overflowing.\\...</td>\n",
       "    </tr>\n",
       "    <tr>\n",
       "      <th>4</th>\n",
       "      <td>S005</td>\n",
       "      <td>74</td>\n",
       "      <td>female</td>\n",
       "      <td>30.0</td>\n",
       "      <td>0</td>\n",
       "      <td>Okay.\\nThe mother's washing the dishes and the...</td>\n",
       "    </tr>\n",
       "  </tbody>\n",
       "</table>\n",
       "</div>"
      ],
      "text/plain": [
       "     ID  age  gender  mmse  class  \\\n",
       "0  S001   74    male   NaN      0   \n",
       "1  S002   62  female  30.0      0   \n",
       "2  S003   69  female  29.0      0   \n",
       "3  S004   71  female  30.0      0   \n",
       "4  S005   74  female  30.0      0   \n",
       "\n",
       "                                                text  \n",
       "0  Well there's a mother standing there washing t...  \n",
       "1  Somebody's getting cookies out_of the cookie j...  \n",
       "2  Okay.\\nThere's a little boy and he's standing ...  \n",
       "3  Are you ready?\\nWell the sink is overflowing.\\...  \n",
       "4  Okay.\\nThe mother's washing the dishes and the...  "
      ]
     },
     "execution_count": 12,
     "metadata": {},
     "output_type": "execute_result"
    }
   ],
   "source": [
    "train_df = pd.read_csv(Paths.meta_data)\n",
    "train_df['text'] = train_df['ID'].apply(lambda x: (open(Paths.text_participants + x + '.txt', 'r').read()))\n",
    "train_df.head()"
   ]
  },
  {
   "cell_type": "code",
   "execution_count": 13,
   "metadata": {},
   "outputs": [],
   "source": [
    "class AddressoDataset(Dataset):\n",
    "    def __init__(self, df, tokenizer, max_len):\n",
    "        self.df = df\n",
    "        self.tokenizer = tokenizer\n",
    "        self.max_len = max_len\n",
    "        \n",
    "    def __len__(self):\n",
    "        return len(self.df)\n",
    "    \n",
    "    def __getitem__(self, idx):\n",
    "        text = self.df['text'][idx]\n",
    "        label = self.df['class'][idx]\n",
    "        \n",
    "        encoding = self.tokenizer.encode_plus(\n",
    "            text,\n",
    "            add_special_tokens=True,\n",
    "            max_length=self.max_len,\n",
    "            return_token_type_ids=False,\n",
    "            padding='max_length',\n",
    "            return_attention_mask=True,\n",
    "            return_tensors='pt',\n",
    "            truncation=True\n",
    "        )\n",
    "        \n",
    "        return {\n",
    "            'text': text,\n",
    "            'input_ids': encoding['input_ids'].flatten(),\n",
    "            'attention_mask': encoding['attention_mask'].flatten(),\n",
    "            'label': torch.tensor(label, dtype=torch.long)\n",
    "        }"
   ]
  },
  {
   "cell_type": "code",
   "execution_count": 14,
   "metadata": {},
   "outputs": [],
   "source": [
    "class BERTClassifier(nn.Module):\n",
    "  def __init__(self, model_name, num_classes):\n",
    "    super(BERTClassifier, self).__init__()\n",
    "\n",
    "    self.bert = AutoModel.from_pretrained(model_name)\n",
    "    self.dropout = nn.Dropout(Config.drop_rate)\n",
    "    self.fc = nn.Linear(self.bert.config.hidden_size, num_classes)\n",
    "\n",
    "  def forward(self, input_ids, attention_mask):\n",
    "    outputs = self.bert(input_ids=input_ids, attention_mask=attention_mask)\n",
    "    pooled_output = outputs.pooler_output\n",
    "    x = self.dropout(pooled_output)\n",
    "    logits = F.softmax(self.fc(x), dim=1)\n",
    "    return logits"
   ]
  },
  {
   "cell_type": "code",
   "execution_count": 15,
   "metadata": {},
   "outputs": [],
   "source": [
    "def train(model, data_loader, optimizer, device):\n",
    "  model.train()\n",
    "  for batch in tqdm(data_loader):\n",
    "    input_ids = batch['input_ids'].to(device)\n",
    "    attention_mask = batch['attention_mask'].to(device)\n",
    "    labels = batch['label'].to(device)\n",
    "    optimizer.zero_grad()\n",
    "    outputs = model(input_ids, attention_mask)\n",
    "    loss = nn.CrossEntropyLoss()(outputs, labels)\n",
    "    loss.backward()\n",
    "    optimizer.step()\n",
    "    # scheduler.step()"
   ]
  },
  {
   "cell_type": "code",
   "execution_count": 16,
   "metadata": {},
   "outputs": [],
   "source": [
    "def evaluate(model, data_loader, device):\n",
    "  model.eval()\n",
    "  predictions = []\n",
    "  true_labels = []\n",
    "  probs = []\n",
    "  with torch.no_grad():\n",
    "    for batch in data_loader:\n",
    "      input_ids = batch['input_ids'].to(device)\n",
    "      attention_mask = batch['attention_mask'].to(device)\n",
    "      labels = batch['label'].to(device)\n",
    "      outputs = model(input_ids, attention_mask)\n",
    "      _, preds = torch.max(outputs, dim=1)\n",
    "      predictions.extend(preds.cpu())\n",
    "      true_labels.extend(labels.cpu())\n",
    "      probs.extend(outputs[:,1].cpu())\n",
    "\n",
    "  return accuracy_score(true_labels, predictions), predictions, probs"
   ]
  },
  {
   "cell_type": "code",
   "execution_count": 17,
   "metadata": {},
   "outputs": [],
   "source": [
    "tokenizer = AutoTokenizer.from_pretrained(Config.bert_model_name)\n",
    "device = 'cuda:5'"
   ]
  },
  {
   "cell_type": "code",
   "execution_count": 18,
   "metadata": {},
   "outputs": [
    {
     "name": "stderr",
     "output_type": "stream",
     "text": [
      "100%|██████████| 6/6 [00:03<00:00,  1.53it/s]\n",
      "100%|██████████| 6/6 [00:03<00:00,  1.50it/s]\n",
      "100%|██████████| 6/6 [00:03<00:00,  1.58it/s]\n",
      "100%|██████████| 6/6 [00:03<00:00,  1.53it/s]\n",
      "100%|██████████| 6/6 [00:03<00:00,  1.65it/s]\n",
      "100%|██████████| 6/6 [00:03<00:00,  1.54it/s]\n",
      "100%|██████████| 6/6 [00:03<00:00,  1.56it/s]\n",
      "100%|██████████| 6/6 [00:03<00:00,  1.55it/s]\n",
      "100%|██████████| 6/6 [00:04<00:00,  1.47it/s]\n",
      "100%|██████████| 6/6 [00:04<00:00,  1.50it/s]\n",
      "100%|██████████| 6/6 [00:03<00:00,  1.60it/s]\n",
      "100%|██████████| 6/6 [00:03<00:00,  1.50it/s]\n",
      "100%|██████████| 6/6 [00:03<00:00,  1.56it/s]\n",
      "100%|██████████| 6/6 [00:03<00:00,  1.52it/s]\n",
      "100%|██████████| 6/6 [00:03<00:00,  1.60it/s]\n",
      "100%|██████████| 6/6 [00:03<00:00,  1.54it/s]\n",
      "100%|██████████| 6/6 [00:03<00:00,  1.52it/s]\n",
      "100%|██████████| 6/6 [00:03<00:00,  1.53it/s]\n",
      "100%|██████████| 6/6 [00:03<00:00,  1.60it/s]\n",
      "100%|██████████| 6/6 [00:03<00:00,  1.61it/s]\n",
      "100%|██████████| 6/6 [00:03<00:00,  1.53it/s]\n",
      "100%|██████████| 6/6 [00:03<00:00,  1.57it/s]\n",
      "100%|██████████| 6/6 [00:03<00:00,  1.54it/s]\n",
      "100%|██████████| 6/6 [00:03<00:00,  1.57it/s]\n",
      "100%|██████████| 6/6 [00:03<00:00,  1.61it/s]\n",
      "100%|██████████| 6/6 [00:03<00:00,  1.57it/s]\n",
      "100%|██████████| 6/6 [00:03<00:00,  1.50it/s]\n",
      "100%|██████████| 6/6 [00:03<00:00,  1.56it/s]\n",
      "100%|██████████| 6/6 [00:04<00:00,  1.45it/s]\n",
      "100%|██████████| 6/6 [00:04<00:00,  1.47it/s]\n",
      "100%|██████████| 6/6 [00:04<00:00,  1.48it/s]\n",
      "100%|██████████| 6/6 [00:03<00:00,  1.50it/s]\n",
      "100%|██████████| 6/6 [00:04<00:00,  1.48it/s]\n",
      "100%|██████████| 6/6 [00:04<00:00,  1.48it/s]\n",
      "100%|██████████| 6/6 [00:04<00:00,  1.45it/s]\n",
      "100%|██████████| 6/6 [00:04<00:00,  1.47it/s]\n",
      "100%|██████████| 6/6 [00:04<00:00,  1.46it/s]\n",
      "100%|██████████| 6/6 [00:04<00:00,  1.47it/s]\n",
      "100%|██████████| 6/6 [00:04<00:00,  1.46it/s]\n",
      "100%|██████████| 6/6 [00:04<00:00,  1.47it/s]\n",
      "100%|██████████| 6/6 [00:04<00:00,  1.49it/s]\n",
      "100%|██████████| 6/6 [00:03<00:00,  1.65it/s]\n",
      "100%|██████████| 6/6 [00:04<00:00,  1.45it/s]\n",
      "100%|██████████| 6/6 [00:04<00:00,  1.45it/s]\n",
      "100%|██████████| 6/6 [00:04<00:00,  1.45it/s]\n",
      "100%|██████████| 6/6 [00:03<00:00,  1.53it/s]\n",
      "100%|██████████| 6/6 [00:03<00:00,  1.55it/s]\n",
      "100%|██████████| 6/6 [00:04<00:00,  1.45it/s]\n",
      "100%|██████████| 6/6 [00:03<00:00,  1.54it/s]\n",
      "100%|██████████| 6/6 [00:04<00:00,  1.44it/s]\n"
     ]
    }
   ],
   "source": [
    "skf = StratifiedKFold(n_splits=Config.folds, shuffle=True, random_state=42)\n",
    "\n",
    "accuracies = np.empty((Config.folds, Config.num_epochs))\n",
    "aurocs = np.empty((Config.folds, Config.num_epochs))\n",
    "\n",
    "predictions = np.zeros((len(train_df)))\n",
    "ground_truths = np.zeros((len(train_df)))\n",
    "probabilities = np.zeros((len(train_df)))\n",
    "\n",
    "pred_df = pd.DataFrame()\n",
    "\n",
    "for fold, (train_index, test_index) in enumerate(skf.split(train_df, train_df['class'])):\n",
    "  df_train, df_test = train_df.iloc[train_index].reset_index(drop=True), train_df.iloc[test_index].reset_index(drop=True)\n",
    "\n",
    "  train_dataset = AddressoDataset(df_train, tokenizer, Config.max_length)\n",
    "  test_dataset = AddressoDataset(df_test, tokenizer, Config.max_length)\n",
    "\n",
    "  train_loader = DataLoader(train_dataset, batch_size=Config.batch_size, shuffle=True)\n",
    "  test_loader = DataLoader(test_dataset, batch_size=Config.batch_size, shuffle=False)\n",
    "\n",
    "  model = BERTClassifier(Config.bert_model_name, num_classes=Config.num_classes).to(device)\n",
    "  optimizer = AdamW(model.parameters(), lr=Config.learning_rate, weight_decay=Config.weight_decay)\n",
    "  total_steps = len(train_loader) * Config.num_epochs\n",
    "\n",
    "  best_acc = -1\n",
    "  best_auroc = -1\n",
    "  best_preds = None\n",
    "\n",
    "  for epoch in range(Config.num_epochs):\n",
    "    train(model, train_loader, optimizer, device)\n",
    "    acc, preds, probs = evaluate(model, test_loader, device)\n",
    "\n",
    "    accuracies[fold, epoch] = acc\n",
    "\n",
    "    true_labels = df_test['class'].values\n",
    "    aurocs[fold, epoch] = roc_auc_score(true_labels, preds)\n",
    "\n",
    "    if aurocs[fold, epoch] > best_auroc:  # Use AUROC for model saving\n",
    "      best_auroc = aurocs[fold, epoch]\n",
    "      predictions[test_index] = preds\n",
    "      probabilities[test_index] = probs\n",
    "      ground_truths[test_index] = true_labels  # Store true labels for this fold\n",
    "      torch.save(model, f'best_model_fold_{fold}.pth')\n",
    "\n",
    "pred_df.loc[:, f'pred'] = probabilities"
   ]
  },
  {
   "cell_type": "code",
   "execution_count": 19,
   "metadata": {},
   "outputs": [],
   "source": [
    "pred_df.to_csv('pred_df_bert.csv')"
   ]
  },
  {
   "cell_type": "code",
   "execution_count": 25,
   "metadata": {},
   "outputs": [
    {
     "name": "stdout",
     "output_type": "stream",
     "text": [
      "0.8137860082304528\n"
     ]
    }
   ],
   "source": [
    "print(roc_auc_score(train_df['class'], pred_df['pred']))"
   ]
  },
  {
   "cell_type": "code",
   "execution_count": 21,
   "metadata": {},
   "outputs": [
    {
     "data": {
      "text/plain": [
       "[<matplotlib.lines.Line2D at 0x1495074f3910>]"
      ]
     },
     "execution_count": 21,
     "metadata": {},
     "output_type": "execute_result"
    },
    {
     "data": {
      "image/png": "[encoded data removed]",
      "text/plain": [
       "<Figure size 640x480 with 1 Axes>"
      ]
     },
     "metadata": {},
     "output_type": "display_data"
    }
   ],
   "source": [
    "for fold in range(Config.folds):\n",
    "  plt.plot(accuracies[fold], linestyle='--')\n",
    "\n",
    "plt.plot(accuracies.mean(axis=0), linewidth=3)"
   ]
  }
 ],
 "metadata": {
  "kernelspec": {
   "display_name": "torch-gpu",
   "language": "python",
   "name": "python3"
  },
  "language_info": {
   "codemirror_mode": {
    "name": "ipython",
    "version": 3
   },
   "file_extension": ".py",
   "mimetype": "text/x-python",
   "name": "python",
   "nbconvert_exporter": "python",
   "pygments_lexer": "ipython3",
   "version": "3.10.6"
  }
 },
 "nbformat": 4,
 "nbformat_minor": 2
}
