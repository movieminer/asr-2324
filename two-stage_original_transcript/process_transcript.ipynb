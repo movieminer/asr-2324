{
 "cells": [
  {
   "cell_type": "code",
   "execution_count": 5,
   "metadata": {},
   "outputs": [],
   "source": [
    "import torch\n",
    "import librosa\n",
    "import pandas as pd\n",
    "import numpy as np\n",
    "\n",
    "from sklearn.svm import SVC\n",
    "import json\n",
    "import os, string\n",
    "from pathlib import Path"
   ]
  },
  {
   "cell_type": "code",
   "execution_count": 6,
   "metadata": {},
   "outputs": [],
   "source": [
    "class Paths:\n",
    "  in_path = Path('../datasets/addresso/train/text_participants/')\n",
    "  out_path = Path('../datasets/addresso/train/text_participants_processed/')"
   ]
  },
  {
   "cell_type": "code",
   "execution_count": 7,
   "metadata": {},
   "outputs": [],
   "source": [
    "def process_file(filename):\n",
    "  with open(Paths.in_path / filename, 'r') as f_in:\n",
    "    text = f_in.read()\n",
    "\n",
    "  text = text.lower()\n",
    "  text = text.replace('...', ' PAUSE ')\n",
    "  text = text.translate(str.maketrans('', '', string.punctuation))\n",
    "  text = ' '.join(text.split())\n",
    "\n",
    "  \n",
    "  with open(Paths.out_path / f\"{filename.split('.')[0]}.txt\", 'w') as f_out:\n",
    "    f_out.write(text)"
   ]
  },
  {
   "cell_type": "code",
   "execution_count": 8,
   "metadata": {},
   "outputs": [],
   "source": [
    "Paths.out_path.mkdir(parents=True, exist_ok=True)\n",
    "for file in os.listdir(Paths.in_path):\n",
    "  process_file(file)"
   ]
  }
 ],
 "metadata": {
  "kernelspec": {
   "display_name": ".venv",
   "language": "python",
   "name": "python3"
  },
  "language_info": {
   "codemirror_mode": {
    "name": "ipython",
    "version": 3
   },
   "file_extension": ".py",
   "mimetype": "text/x-python",
   "name": "python",
   "nbconvert_exporter": "python",
   "pygments_lexer": "ipython3",
   "version": "3.10.6"
  }
 },
 "nbformat": 4,
 "nbformat_minor": 2
}
