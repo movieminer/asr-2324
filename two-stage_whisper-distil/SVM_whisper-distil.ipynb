{
 "cells": [
  {
   "cell_type": "code",
   "execution_count": 2,
   "metadata": {},
   "outputs": [],
   "source": [
    "import torch\n",
    "import librosa\n",
    "import pandas as pd\n",
    "import numpy as np\n",
    "\n",
    "from sklearn.svm import SVC\n",
    "from sklearn.model_selection import cross_val_score\n",
    "from sklearn.model_selection import train_test_split\n",
    "import json\n",
    "\n",
    "from sklearn.feature_extraction.text import TfidfVectorizer,CountVectorizer\n",
    "import pandas as pd\n",
    "\n",
    "from sklearn.model_selection import StratifiedKFold\n",
    "from sklearn.svm import SVC\n",
    "from sklearn.metrics import roc_auc_score"
   ]
  },
  {
   "cell_type": "code",
   "execution_count": 3,
   "metadata": {},
   "outputs": [
    {
     "data": {
      "text/html": [
       "<div>\n",
       "<style scoped>\n",
       "    .dataframe tbody tr th:only-of-type {\n",
       "        vertical-align: middle;\n",
       "    }\n",
       "\n",
       "    .dataframe tbody tr th {\n",
       "        vertical-align: top;\n",
       "    }\n",
       "\n",
       "    .dataframe thead th {\n",
       "        text-align: right;\n",
       "    }\n",
       "</style>\n",
       "<table border=\"1\" class=\"dataframe\">\n",
       "  <thead>\n",
       "    <tr style=\"text-align: right;\">\n",
       "      <th></th>\n",
       "      <th>ID</th>\n",
       "      <th>age</th>\n",
       "      <th>gender</th>\n",
       "      <th>mmse</th>\n",
       "      <th>class</th>\n",
       "      <th>path</th>\n",
       "    </tr>\n",
       "  </thead>\n",
       "  <tbody>\n",
       "    <tr>\n",
       "      <th>1</th>\n",
       "      <td>S002</td>\n",
       "      <td>62</td>\n",
       "      <td>female</td>\n",
       "      <td>30.0</td>\n",
       "      <td>0</td>\n",
       "      <td>../datasets/addresso/train/whisper_med_transcr...</td>\n",
       "    </tr>\n",
       "    <tr>\n",
       "      <th>2</th>\n",
       "      <td>S003</td>\n",
       "      <td>69</td>\n",
       "      <td>female</td>\n",
       "      <td>29.0</td>\n",
       "      <td>0</td>\n",
       "      <td>../datasets/addresso/train/whisper_med_transcr...</td>\n",
       "    </tr>\n",
       "    <tr>\n",
       "      <th>3</th>\n",
       "      <td>S004</td>\n",
       "      <td>71</td>\n",
       "      <td>female</td>\n",
       "      <td>30.0</td>\n",
       "      <td>0</td>\n",
       "      <td>../datasets/addresso/train/whisper_med_transcr...</td>\n",
       "    </tr>\n",
       "    <tr>\n",
       "      <th>4</th>\n",
       "      <td>S005</td>\n",
       "      <td>74</td>\n",
       "      <td>female</td>\n",
       "      <td>30.0</td>\n",
       "      <td>0</td>\n",
       "      <td>../datasets/addresso/train/whisper_med_transcr...</td>\n",
       "    </tr>\n",
       "    <tr>\n",
       "      <th>5</th>\n",
       "      <td>S006</td>\n",
       "      <td>67</td>\n",
       "      <td>female</td>\n",
       "      <td>29.0</td>\n",
       "      <td>0</td>\n",
       "      <td>../datasets/addresso/train/whisper_med_transcr...</td>\n",
       "    </tr>\n",
       "  </tbody>\n",
       "</table>\n",
       "</div>"
      ],
      "text/plain": [
       "     ID  age  gender  mmse  class  \\\n",
       "1  S002   62  female  30.0      0   \n",
       "2  S003   69  female  29.0      0   \n",
       "3  S004   71  female  30.0      0   \n",
       "4  S005   74  female  30.0      0   \n",
       "5  S006   67  female  29.0      0   \n",
       "\n",
       "                                                path  \n",
       "1  ../datasets/addresso/train/whisper_med_transcr...  \n",
       "2  ../datasets/addresso/train/whisper_med_transcr...  \n",
       "3  ../datasets/addresso/train/whisper_med_transcr...  \n",
       "4  ../datasets/addresso/train/whisper_med_transcr...  \n",
       "5  ../datasets/addresso/train/whisper_med_transcr...  "
      ]
     },
     "execution_count": 3,
     "metadata": {},
     "output_type": "execute_result"
    }
   ],
   "source": [
    "train_df = pd.read_csv('../datasets/addresso/train/meta_data.csv')\n",
    "train_df['path'] = '../datasets/addresso/train/whisper_med_transcript_processed/' + train_df['ID'] + '.txt'\n",
    "train_df = train_df.dropna()\n",
    "\n",
    "train_df.head()"
   ]
  },
  {
   "cell_type": "code",
   "execution_count": 5,
   "metadata": {},
   "outputs": [],
   "source": [
    "vocab = []\n",
    "\n",
    "def path_to_features(path):\n",
    "    with open(path, 'r') as f:\n",
    "        text = f.read()\n",
    "    \n",
    "    words = text.split(' ')\n",
    "    \n",
    "    # bag of words\n",
    "    features = np.zeros(5000)\n",
    "    for word in words:\n",
    "        if word in vocab:\n",
    "            features[vocab.index(word)] += 1\n",
    "        else:\n",
    "            vocab.append(word)\n",
    "            features = np.append(features, 1)\n",
    "\n",
    "    # number of words\n",
    "    features = np.append(features, len(words))\n",
    "\n",
    "    return features"
   ]
  },
  {
   "cell_type": "code",
   "execution_count": 6,
   "metadata": {},
   "outputs": [],
   "source": [
    "train_df['features'] = train_df['path'].apply(path_to_features)\n",
    "\n",
    "X = np.stack(train_df['path'].apply(path_to_features))\n",
    "y = np.array(train_df['class'])"
   ]
  },
  {
   "cell_type": "code",
   "execution_count": 10,
   "metadata": {},
   "outputs": [
    {
     "name": "stdout",
     "output_type": "stream",
     "text": [
      "Individual AUC scores: [0.71900826446281, 0.8181818181818181, 0.9909090909090909, 0.8727272727272727, 0.8818181818181818]\n",
      "Mean AUC: 0.8565289256198347\n"
     ]
    }
   ],
   "source": [
    "cv = StratifiedKFold(n_splits=5, shuffle=True, random_state=42)\n",
    "model = SVC(probability=True, kernel='rbf', C=60)  # Ensure probability estimates are enabled\n",
    "\n",
    "# 3. Calculate AUC for each fold\n",
    "auc_scores = []\n",
    "pred_df = pd.DataFrame()\n",
    "for train_index, test_index in cv.split(X, y):\n",
    "    X_train, X_test = X[train_index], X[test_index]\n",
    "    y_train, y_test = y[train_index], y[test_index]\n",
    "\n",
    "    model.fit(X_train, y_train)\n",
    "    y_proba = model.predict_proba(X_test)[:, 1]  # Probability of positive class\n",
    "    auc = roc_auc_score(y_test, y_proba)\n",
    "    auc_scores.append(auc)\n",
    "\n",
    "    val_df = train_df.iloc[test_index].copy()\n",
    "    val_df.loc[:, f'pred'] = y_proba\n",
    "    pred_df = pd.concat([pred_df, val_df])\n",
    "\n",
    "# 4. Summarize Results\n",
    "print(\"Individual AUC scores:\", auc_scores)\n",
    "print(\"Mean AUC:\", sum(auc_scores) / len(auc_scores))"
   ]
  },
  {
   "cell_type": "code",
   "execution_count": 11,
   "metadata": {},
   "outputs": [],
   "source": [
    "pred_df.to_csv('pred_df_svm_rbf.csv')"
   ]
  },
  {
   "cell_type": "code",
   "execution_count": 13,
   "metadata": {},
   "outputs": [],
   "source": [
    "clf = SVC(kernel='rbf', C=60)"
   ]
  },
  {
   "cell_type": "code",
   "execution_count": 14,
   "metadata": {},
   "outputs": [],
   "source": [
    "scores = cross_val_score(clf, X_train, y_train, cv=5)"
   ]
  },
  {
   "cell_type": "markdown",
   "metadata": {},
   "source": [
    "# Test"
   ]
  },
  {
   "cell_type": "code",
   "execution_count": 15,
   "metadata": {},
   "outputs": [
    {
     "name": "stdout",
     "output_type": "stream",
     "text": [
      "0.757516339869281\n"
     ]
    }
   ],
   "source": [
    "print(np.mean(scores))"
   ]
  }
 ],
 "metadata": {
  "kernelspec": {
   "display_name": "torch-gpu",
   "language": "python",
   "name": "python3"
  },
  "language_info": {
   "codemirror_mode": {
    "name": "ipython",
    "version": 3
   },
   "file_extension": ".py",
   "mimetype": "text/x-python",
   "name": "python",
   "nbconvert_exporter": "python",
   "pygments_lexer": "ipython3",
   "version": "3.10.6"
  }
 },
 "nbformat": 4,
 "nbformat_minor": 2
}
