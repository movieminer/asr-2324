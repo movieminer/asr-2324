{
 "cells": [
  {
   "cell_type": "markdown",
   "metadata": {},
   "source": [
    "# Alzheimer's Classification [Train]"
   ]
  },
  {
   "cell_type": "markdown",
   "metadata": {},
   "source": [
    "## Config"
   ]
  },
  {
   "cell_type": "code",
   "execution_count": 1,
   "metadata": {},
   "outputs": [
    {
     "name": "stderr",
     "output_type": "stream",
     "text": [
      "/vol/tensusers3/thijsdejong/2324-asr/.venv/lib/python3.10/site-packages/tqdm/auto.py:21: TqdmWarning: IProgress not found. Please update jupyter and ipywidgets. See https://ipywidgets.readthedocs.io/en/stable/user_install.html\n",
      "  from .autonotebook import tqdm as notebook_tqdm\n"
     ]
    }
   ],
   "source": [
    "import os\n",
    "os.environ[\"CUDA_VISIBLE_DEVICES\"] = \"7\"\n",
    "\n",
    "from PIL import Image\n",
    "from numpy import asarray\n",
    "import gc\n",
    "import matplotlib.pyplot as plt\n",
    "import math\n",
    "import multiprocessing\n",
    "import numpy as np\n",
    "import pandas as pd\n",
    "import random\n",
    "import time\n",
    "import timm\n",
    "import torch\n",
    "import torch.nn as nn\n",
    "import torch.nn.functional as F\n",
    "from torch.optim.lr_scheduler import OneCycleLR\n",
    "from sklearn.model_selection import train_test_split, KFold, GroupKFold\n",
    "from sklearn.preprocessing import StandardScaler\n",
    "import torchmetrics\n",
    "import cv2\n",
    "import pickle\n",
    "import transformers\n",
    "import scipy.io.wavfile as wavfile\n",
    "import datasets as ds\n",
    "import librosa\n",
    "import evaluate\n",
    "from torchmetrics import Accuracy, Precision, Recall, F1Score, AUROC\n",
    "from sklearn.metrics import roc_curve, roc_auc_score, RocCurveDisplay\n",
    "from torchaudio.transforms import SpeedPerturbation\n",
    "from librosa import effects\n",
    "\n",
    "\n",
    "from glob import glob\n",
    "from torch.utils.data import DataLoader, Dataset\n",
    "from tqdm import tqdm\n",
    "from typing import Dict, List\n",
    "\n",
    "device = torch.device(\"cuda:0\" if torch.cuda.is_available() else \"cpu\")\n",
    "print('Using', torch.cuda.device_count(), 'GPU(s)')"
   ]
  },
  {
   "cell_type": "code",
   "execution_count": null,
   "metadata": {},
   "outputs": [],
   "source": [
    "class config:\n",
    "    DEVICE = 'cuda'\n",
    "    AMP = True\n",
    "    MAX_GRAD_NORM = 1e7\n",
    "    NUM_WORKERS = 0 # multiprocessing.cpu_count()\n",
    "    PRINT_FREQ = 20\n",
    "    SEED = 20\n",
    "    VISUALIZE = True\n",
    "\n",
    "    MODEL = \"MIT/ast-finetuned-audioset-10-10-0.4593\"\n",
    "    BATCH_SIZE_TRAIN = 4\n",
    "    BATCH_SIZE_VALID = 4\n",
    "    EPOCHS = 5\n",
    "    FOLDS = 5\n",
    "    VAL_SIZE = .2   # If FOLDS=1 \n",
    "    WEIGHT_DECAY = 0.1\n",
    "    MAX_LR = 1e-5\n",
    "    DROPOUT = 0.85\n",
    "    \n",
    "    \n",
    "class paths:\n",
    "    OUTPUT_DIR = './output/'\n",
    "    DATASET = '../datasets/addresso/train/'\n",
    "    TRANSCRIPT = '../datasets/addresso/train/transcription/'\n",
    "    AUDIO = '../datasets/addresso/train/concatenated/'"
   ]
  },
  {
   "cell_type": "markdown",
   "metadata": {},
   "source": [
    "### Utility functions"
   ]
  },
  {
   "cell_type": "code",
   "execution_count": null,
   "metadata": {},
   "outputs": [],
   "source": [
    "class AverageMeter(object):\n",
    "    \"\"\"Computes and stores the average and current value\"\"\"\n",
    "    def __init__(self):\n",
    "        self.reset()\n",
    "\n",
    "    def reset(self):\n",
    "        self.val = 0\n",
    "        self.avg = 0\n",
    "        self.sum = 0\n",
    "        self.count = 0\n",
    "\n",
    "    def update(self, val, n=1):\n",
    "        self.val = val\n",
    "        self.sum += val * n\n",
    "        self.count += n\n",
    "        self.avg = self.sum / self.count\n",
    "        \n",
    "def asMinutes(s: float):\n",
    "    \"Convert to minutes.\"\n",
    "    m = math.floor(s / 60)\n",
    "    s -= m * 60\n",
    "    return '%dm %ds' % (m, s)\n",
    "\n",
    "\n",
    "def timeSince(since: float, percent: float):\n",
    "    now = time.time()\n",
    "    s = now - since\n",
    "    es = s / (percent)\n",
    "    rs = es - s\n",
    "    return '%s (remain %s)' % (asMinutes(s), asMinutes(rs))\n",
    "\n",
    "\n",
    "def get_logger(filename=paths.OUTPUT_DIR):\n",
    "    from logging import getLogger, INFO, StreamHandler, FileHandler, Formatter\n",
    "    logger = getLogger(__name__)\n",
    "    logger.setLevel(INFO)\n",
    "    handler1 = StreamHandler()\n",
    "    handler1.setFormatter(Formatter(\"%(message)s\"))\n",
    "    handler2 = FileHandler(filename=f\"{filename}.log\")\n",
    "    handler2.setFormatter(Formatter(\"%(message)s\"))\n",
    "    logger.addHandler(handler1)\n",
    "    logger.addHandler(handler2)\n",
    "    return logger\n",
    "    \n",
    "    \n",
    "def seed_everything(seed: int):\n",
    "    random.seed(seed)\n",
    "    np.random.seed(seed)\n",
    "    torch.manual_seed(seed)\n",
    "    os.environ['PYTHONHASHSEED'] = str(seed) \n",
    "\n",
    "    \n",
    "def sep():\n",
    "    print(\"-\"*100)\n",
    "    \n",
    "LOGGER = get_logger()\n",
    "seed_everything(config.SEED)"
   ]
  },
  {
   "cell_type": "markdown",
   "metadata": {},
   "source": [
    "## Loading Data"
   ]
  },
  {
   "cell_type": "code",
   "execution_count": null,
   "metadata": {},
   "outputs": [],
   "source": [
    "df = pd.read_csv(paths.DATASET + 'meta_data.csv')\n",
    "df = df.drop(columns=['age', 'gender', 'mmse'])\n",
    "df['audio'] = df['ID'].apply(lambda x: paths.AUDIO +str(x)+'.wav')\n"
   ]
  },
  {
   "cell_type": "code",
   "execution_count": null,
   "metadata": {},
   "outputs": [
    {
     "name": "stdout",
     "output_type": "stream",
     "text": [
      "            ID  audio\n",
      "fold class           \n",
      "0.0  0      10     10\n",
      "     1      12     12\n",
      "1.0  0      11     11\n",
      "     1      11     11\n",
      "2.0  0      12     12\n",
      "     1      10     10\n",
      "3.0  0      11     11\n",
      "     1      10     10\n",
      "4.0  0      10     10\n",
      "     1      11     11\n"
     ]
    }
   ],
   "source": [
    "if config.FOLDS > 1:\n",
    "    gkf = GroupKFold(n_splits=config.FOLDS)\n",
    "    for fold, (train_index, valid_index) in enumerate(gkf.split(df, df['class'], df['ID'])):\n",
    "        df.loc[valid_index, \"fold\"] = int(fold)\n",
    "\n",
    "df.head()\n",
    "print(df.groupby(['fold', 'class']).count())"
   ]
  },
  {
   "cell_type": "code",
   "execution_count": null,
   "metadata": {},
   "outputs": [],
   "source": [
    "class AudioDataset(Dataset):\n",
    "    def __init__(self, df, mode='train', target_sr=16000):\n",
    "        self.df = df\n",
    "        self.mode = mode\n",
    "        self.f_ex = transformers.AutoFeatureExtractor.from_pretrained(config.MODEL)\n",
    "        self.target_sr = target_sr\n",
    "\n",
    "    def __len__(self):\n",
    "        return len(self.df)\n",
    "    \n",
    "    def __getitem__(self, idx):\n",
    "        audio_path = self.df.iloc[idx]['audio']\n",
    "        audio, sr = librosa.load(audio_path)\n",
    "\n",
    "        if self.mode == 'train' and False:\n",
    "          audio = self.speech_augmentation(audio, sr)\n",
    "        \n",
    "        features = self.preprocess(audio)\n",
    "        labels = self.df.iloc[idx]['class']\n",
    "  \n",
    "        return features, labels\n",
    "\n",
    "    def preprocess(self, audio):\n",
    "        inputs = self.f_ex(audio, sampling_rate=self.target_sr, return_tensors=\"pt\")\n",
    "        return inputs[\"input_values\"].squeeze(0)\n",
    "\n",
    "    def speech_augmentation(self, audio, sr):\n",
    "      # Define probabilities for each augmentation\n",
    "      noise_prob = 0.3  # 30% chance of adding noise\n",
    "      pitch_prob = 0.4  # 40% chance of pitch shifting\n",
    "      volume_prob = 0.5  # 50% chance of volume perturbation\n",
    "      crop_prob = 0.2  # 20% chance of partial cropping\n",
    "\n",
    "      if random.random() < pitch_prob:\n",
    "        audio = self.pitch_shift(audio, sr)\n",
    "      if random.random() < volume_prob:\n",
    "        audio = self.volume_perturb(audio)\n",
    "\n",
    "      noise = np.random.normal(0, 0.01, size=audio.shape)  # Mean = 0, Std = 0.01\n",
    "      audio += noise\n",
    "\n",
    "      return audio\n",
    "\n",
    "    def pitch_shift(self, audio, sr, semitones=random.uniform(-2, 2)):\n",
    "      return effects.pitch_shift(audio, sr=sr, n_steps=semitones)\n",
    "\n",
    "    def volume_perturb(self, audio, gain_dB=random.uniform(-3, 3)):\n",
    "      return effects.preemphasis(audio, coef=gain_dB)\n"
   ]
  },
  {
   "cell_type": "code",
   "execution_count": null,
   "metadata": {},
   "outputs": [],
   "source": [
    "class AlzheimersModel(nn.Module):\n",
    "    def __init__(self):\n",
    "        super().__init__()\n",
    "        \n",
    "        self.model = transformers.ASTForAudioClassification.from_pretrained(config.MODEL)\n",
    "        \n",
    "        self.model_headless = list(self.model.children())[:-1]\n",
    "\n",
    "        self.backbone = nn.Sequential(*self.model_headless)\n",
    "        self.fc = nn.Linear(768, 10)\n",
    "        self.dropout = nn.Dropout(config.DROPOUT)\n",
    "        self.fc3 = nn.Linear(10,2)\n",
    "\n",
    "    def forward(self, x):\n",
    "        out = self.backbone(x)\n",
    "        out = self.fc(out.pooler_output)\n",
    "        out = self.dropout(out)\n",
    "        out = self.fc3(out)\n",
    "        return out"
   ]
  },
  {
   "cell_type": "code",
   "execution_count": null,
   "metadata": {},
   "outputs": [
    {
     "name": "stdout",
     "output_type": "stream",
     "text": [
      "AlzheimersModel(\n",
      "  (model): ASTForAudioClassification(\n",
      "    (audio_spectrogram_transformer): ASTModel(\n",
      "      (embeddings): ASTEmbeddings(\n",
      "        (patch_embeddings): ASTPatchEmbeddings(\n",
      "          (projection): Conv2d(1, 768, kernel_size=(16, 16), stride=(10, 10))\n",
      "        )\n",
      "        (dropout): Dropout(p=0.0, inplace=False)\n",
      "      )\n",
      "      (encoder): ASTEncoder(\n",
      "        (layer): ModuleList(\n",
      "          (0-11): 12 x ASTLayer(\n",
      "            (attention): ASTAttention(\n",
      "              (attention): ASTSelfAttention(\n",
      "                (query): Linear(in_features=768, out_features=768, bias=True)\n",
      "                (key): Linear(in_features=768, out_features=768, bias=True)\n",
      "                (value): Linear(in_features=768, out_features=768, bias=True)\n",
      "                (dropout): Dropout(p=0.0, inplace=False)\n",
      "              )\n",
      "              (output): ASTSelfOutput(\n",
      "                (dense): Linear(in_features=768, out_features=768, bias=True)\n",
      "                (dropout): Dropout(p=0.0, inplace=False)\n",
      "              )\n",
      "            )\n",
      "            (intermediate): ASTIntermediate(\n",
      "              (dense): Linear(in_features=768, out_features=3072, bias=True)\n",
      "              (intermediate_act_fn): GELUActivation()\n",
      "            )\n",
      "            (output): ASTOutput(\n",
      "              (dense): Linear(in_features=3072, out_features=768, bias=True)\n",
      "              (dropout): Dropout(p=0.0, inplace=False)\n",
      "            )\n",
      "            (layernorm_before): LayerNorm((768,), eps=1e-12, elementwise_affine=True)\n",
      "            (layernorm_after): LayerNorm((768,), eps=1e-12, elementwise_affine=True)\n",
      "          )\n",
      "        )\n",
      "      )\n",
      "      (layernorm): LayerNorm((768,), eps=1e-12, elementwise_affine=True)\n",
      "    )\n",
      "    (classifier): ASTMLPHead(\n",
      "      (layernorm): LayerNorm((768,), eps=1e-12, elementwise_affine=True)\n",
      "      (dense): Linear(in_features=768, out_features=527, bias=True)\n",
      "    )\n",
      "  )\n",
      "  (backbone): Sequential(\n",
      "    (0): ASTModel(\n",
      "      (embeddings): ASTEmbeddings(\n",
      "        (patch_embeddings): ASTPatchEmbeddings(\n",
      "          (projection): Conv2d(1, 768, kernel_size=(16, 16), stride=(10, 10))\n",
      "        )\n",
      "        (dropout): Dropout(p=0.0, inplace=False)\n",
      "      )\n",
      "      (encoder): ASTEncoder(\n",
      "        (layer): ModuleList(\n",
      "          (0-11): 12 x ASTLayer(\n",
      "            (attention): ASTAttention(\n",
      "              (attention): ASTSelfAttention(\n",
      "                (query): Linear(in_features=768, out_features=768, bias=True)\n",
      "                (key): Linear(in_features=768, out_features=768, bias=True)\n",
      "                (value): Linear(in_features=768, out_features=768, bias=True)\n",
      "                (dropout): Dropout(p=0.0, inplace=False)\n",
      "              )\n",
      "              (output): ASTSelfOutput(\n",
      "                (dense): Linear(in_features=768, out_features=768, bias=True)\n",
      "                (dropout): Dropout(p=0.0, inplace=False)\n",
      "              )\n",
      "            )\n",
      "            (intermediate): ASTIntermediate(\n",
      "              (dense): Linear(in_features=768, out_features=3072, bias=True)\n",
      "              (intermediate_act_fn): GELUActivation()\n",
      "            )\n",
      "            (output): ASTOutput(\n",
      "              (dense): Linear(in_features=3072, out_features=768, bias=True)\n",
      "              (dropout): Dropout(p=0.0, inplace=False)\n",
      "            )\n",
      "            (layernorm_before): LayerNorm((768,), eps=1e-12, elementwise_affine=True)\n",
      "            (layernorm_after): LayerNorm((768,), eps=1e-12, elementwise_affine=True)\n",
      "          )\n",
      "        )\n",
      "      )\n",
      "      (layernorm): LayerNorm((768,), eps=1e-12, elementwise_affine=True)\n",
      "    )\n",
      "  )\n",
      "  (fc): Linear(in_features=768, out_features=10, bias=True)\n",
      "  (dropout): Dropout(p=0.85, inplace=False)\n",
      "  (fc3): Linear(in_features=10, out_features=2, bias=True)\n",
      ")\n"
     ]
    }
   ],
   "source": [
    "print(AlzheimersModel())"
   ]
  },
  {
   "cell_type": "code",
   "execution_count": null,
   "metadata": {},
   "outputs": [],
   "source": [
    "def train_epoch(train_loader, model, optimizer, epoch, scheduler):\n",
    "    model.train()\n",
    "    losses = AverageMeter()\n",
    "    loss_fn = nn.CrossEntropyLoss()\n",
    "    \n",
    "    with tqdm(train_loader, unit=\"batch\") as tepoch:\n",
    "        for idx, (features, labels) in enumerate(tepoch):\n",
    "            features = np.array(features)\n",
    "            features = torch.from_numpy(features).to(device)\n",
    "            labels = labels.to(device)\n",
    "            batch_size = features.size(0)\n",
    "\n",
    "            optimizer.zero_grad()\n",
    "            \n",
    "            outputs = model(features)\n",
    "            loss = loss_fn(outputs, labels)\n",
    "\n",
    "            loss.backward()\n",
    "            optimizer.step()\n",
    "            optimizer.zero_grad()\n",
    "\n",
    "            scheduler.step()\n",
    "            losses.update(loss.item(), batch_size)\n",
    "\n",
    "    print(f'Train loss: {losses.avg:.4f}')\n",
    "    return losses.avg\n",
    "\n",
    "\n",
    "def evaluate(model, valid_loader):\n",
    "    model.eval()\n",
    "    losses = AverageMeter()\n",
    "    acc = AverageMeter()\n",
    "    auc = torchmetrics.AUROC(task=\"binary\")  # Create the AUC metric\n",
    "    loss_fn = nn.CrossEntropyLoss()\n",
    "\n",
    "    with torch.no_grad():\n",
    "        all_probs = torch.tensor([]).to(device)\n",
    "        all_labels = torch.tensor([]).to(device)\n",
    "        for idx, (features, labels) in enumerate(valid_loader):\n",
    "            features = np.array(features)\n",
    "            features = torch.from_numpy(features).to(device)            \n",
    "            labels = labels.to(device)\n",
    "            batch_size = features.size(0)\n",
    "\n",
    "            outputs = model(features)\n",
    "            pred = torch.argmax(outputs, 1)\n",
    "            loss = loss_fn(outputs, labels)\n",
    "            losses.update(loss.item(), batch_size)\n",
    "\n",
    "            # Get probabilities for the positive class (Alzheimer's)\n",
    "            probs = torch.softmax(outputs, dim=1)[:, 1]\n",
    "            all_probs = torch.cat((all_probs, probs), dim=0)\n",
    "            all_labels = torch.cat((all_labels, labels), dim=0)\n",
    "\n",
    "            auc.update(probs, labels) \n",
    "\n",
    "            accuracy = torchmetrics.functional.accuracy(pred, labels, 'binary')\n",
    "            acc.update(accuracy.item(), batch_size)\n",
    "\n",
    "    roc_auc = auc.compute()\n",
    "    print(f'Valid loss: {losses.avg:.4f} | Valid accuracy: {acc.avg:.4f} | AUC-ROC: {roc_auc:.4f}')\n",
    "    return losses.avg, acc.avg, roc_auc, all_probs.cpu().numpy(), all_labels.cpu().numpy()"
   ]
  },
  {
   "cell_type": "code",
   "execution_count": null,
   "metadata": {},
   "outputs": [
    {
     "name": "stdout",
     "output_type": "stream",
     "text": [
      "Epoch 0\n"
     ]
    },
    {
     "name": "stderr",
     "output_type": "stream",
     "text": [
      "100%|██████████| 22/22 [00:09<00:00,  2.41batch/s]\n"
     ]
    },
    {
     "name": "stdout",
     "output_type": "stream",
     "text": [
      "Train loss: 0.8121\n",
      "Valid loss: 0.7048 | Valid accuracy: 0.5000 | AUC-ROC: 0.5833\n",
      "Epoch 1\n"
     ]
    },
    {
     "name": "stderr",
     "output_type": "stream",
     "text": [
      "100%|██████████| 22/22 [00:09<00:00,  2.43batch/s]\n"
     ]
    },
    {
     "name": "stdout",
     "output_type": "stream",
     "text": [
      "Train loss: 1.0467\n",
      "Valid loss: 0.7046 | Valid accuracy: 0.5000 | AUC-ROC: 0.6083\n",
      "Epoch 2\n"
     ]
    },
    {
     "name": "stderr",
     "output_type": "stream",
     "text": [
      "100%|██████████| 22/22 [00:09<00:00,  2.41batch/s]\n"
     ]
    },
    {
     "name": "stdout",
     "output_type": "stream",
     "text": [
      "Train loss: 0.8939\n",
      "Valid loss: 0.6697 | Valid accuracy: 0.5455 | AUC-ROC: 0.6417\n",
      "Epoch 3\n"
     ]
    },
    {
     "name": "stderr",
     "output_type": "stream",
     "text": [
      "100%|██████████| 22/22 [00:09<00:00,  2.44batch/s]\n"
     ]
    },
    {
     "name": "stdout",
     "output_type": "stream",
     "text": [
      "Train loss: 0.7557\n",
      "Valid loss: 0.6433 | Valid accuracy: 0.6364 | AUC-ROC: 0.7667\n",
      "Epoch 4\n"
     ]
    },
    {
     "name": "stderr",
     "output_type": "stream",
     "text": [
      "100%|██████████| 22/22 [00:09<00:00,  2.41batch/s]\n"
     ]
    },
    {
     "name": "stdout",
     "output_type": "stream",
     "text": [
      "Train loss: 0.8289\n",
      "Valid loss: 0.6431 | Valid accuracy: 0.5455 | AUC-ROC: 0.7333\n",
      "Epoch 5\n"
     ]
    },
    {
     "name": "stderr",
     "output_type": "stream",
     "text": [
      "100%|██████████| 22/22 [00:09<00:00,  2.40batch/s]\n"
     ]
    },
    {
     "name": "stdout",
     "output_type": "stream",
     "text": [
      "Train loss: 0.7524\n",
      "Valid loss: 0.6461 | Valid accuracy: 0.5909 | AUC-ROC: 0.7250\n",
      "Epoch 6\n"
     ]
    },
    {
     "name": "stderr",
     "output_type": "stream",
     "text": [
      "100%|██████████| 22/22 [00:09<00:00,  2.40batch/s]\n"
     ]
    },
    {
     "name": "stdout",
     "output_type": "stream",
     "text": [
      "Train loss: 0.6083\n",
      "Valid loss: 0.6329 | Valid accuracy: 0.6364 | AUC-ROC: 0.7417\n",
      "Epoch 7\n"
     ]
    },
    {
     "name": "stderr",
     "output_type": "stream",
     "text": [
      "100%|██████████| 22/22 [00:09<00:00,  2.39batch/s]\n"
     ]
    },
    {
     "name": "stdout",
     "output_type": "stream",
     "text": [
      "Train loss: 0.6279\n",
      "Valid loss: 0.6586 | Valid accuracy: 0.5455 | AUC-ROC: 0.7917\n",
      "Epoch 8\n"
     ]
    },
    {
     "name": "stderr",
     "output_type": "stream",
     "text": [
      "100%|██████████| 22/22 [00:09<00:00,  2.40batch/s]\n"
     ]
    },
    {
     "name": "stdout",
     "output_type": "stream",
     "text": [
      "Train loss: 0.5614\n",
      "Valid loss: 0.6270 | Valid accuracy: 0.7273 | AUC-ROC: 0.7833\n",
      "Epoch 9\n"
     ]
    },
    {
     "name": "stderr",
     "output_type": "stream",
     "text": [
      "100%|██████████| 22/22 [00:09<00:00,  2.39batch/s]\n"
     ]
    },
    {
     "name": "stdout",
     "output_type": "stream",
     "text": [
      "Train loss: 0.6238\n",
      "Valid loss: 0.6105 | Valid accuracy: 0.6818 | AUC-ROC: 0.7917\n",
      "Epoch 10\n"
     ]
    },
    {
     "name": "stderr",
     "output_type": "stream",
     "text": [
      "100%|██████████| 22/22 [00:09<00:00,  2.37batch/s]\n"
     ]
    },
    {
     "name": "stdout",
     "output_type": "stream",
     "text": [
      "Train loss: 0.5010\n",
      "Valid loss: 0.6093 | Valid accuracy: 0.6818 | AUC-ROC: 0.7833\n",
      "Epoch 11\n"
     ]
    },
    {
     "name": "stderr",
     "output_type": "stream",
     "text": [
      "100%|██████████| 22/22 [00:09<00:00,  2.37batch/s]\n"
     ]
    },
    {
     "name": "stdout",
     "output_type": "stream",
     "text": [
      "Train loss: 0.5710\n",
      "Valid loss: 0.6087 | Valid accuracy: 0.6364 | AUC-ROC: 0.7833\n",
      "Epoch 12\n"
     ]
    },
    {
     "name": "stderr",
     "output_type": "stream",
     "text": [
      "100%|██████████| 22/22 [00:09<00:00,  2.39batch/s]\n"
     ]
    },
    {
     "name": "stdout",
     "output_type": "stream",
     "text": [
      "Train loss: 0.4801\n",
      "Valid loss: 0.6075 | Valid accuracy: 0.6364 | AUC-ROC: 0.7833\n",
      "Epoch 13\n"
     ]
    },
    {
     "name": "stderr",
     "output_type": "stream",
     "text": [
      "100%|██████████| 22/22 [00:09<00:00,  2.38batch/s]\n"
     ]
    },
    {
     "name": "stdout",
     "output_type": "stream",
     "text": [
      "Train loss: 0.4931\n",
      "Valid loss: 0.6071 | Valid accuracy: 0.6818 | AUC-ROC: 0.7917\n",
      "Epoch 14\n"
     ]
    },
    {
     "name": "stderr",
     "output_type": "stream",
     "text": [
      "100%|██████████| 22/22 [00:09<00:00,  2.36batch/s]\n"
     ]
    },
    {
     "name": "stdout",
     "output_type": "stream",
     "text": [
      "Train loss: 0.4944\n",
      "Valid loss: 0.6070 | Valid accuracy: 0.6818 | AUC-ROC: 0.7917\n",
      "Epoch 0\n"
     ]
    },
    {
     "name": "stderr",
     "output_type": "stream",
     "text": [
      "100%|██████████| 22/22 [00:09<00:00,  2.43batch/s]\n"
     ]
    },
    {
     "name": "stdout",
     "output_type": "stream",
     "text": [
      "Train loss: 0.9452\n",
      "Valid loss: 0.7192 | Valid accuracy: 0.4545 | AUC-ROC: 0.4132\n",
      "Epoch 1\n"
     ]
    },
    {
     "name": "stderr",
     "output_type": "stream",
     "text": [
      "100%|██████████| 22/22 [00:09<00:00,  2.41batch/s]\n"
     ]
    },
    {
     "name": "stdout",
     "output_type": "stream",
     "text": [
      "Train loss: 1.0533\n",
      "Valid loss: 0.7153 | Valid accuracy: 0.5909 | AUC-ROC: 0.5372\n",
      "Epoch 2\n"
     ]
    },
    {
     "name": "stderr",
     "output_type": "stream",
     "text": [
      "100%|██████████| 22/22 [00:09<00:00,  2.43batch/s]\n"
     ]
    },
    {
     "name": "stdout",
     "output_type": "stream",
     "text": [
      "Train loss: 0.9926\n",
      "Valid loss: 0.7785 | Valid accuracy: 0.5455 | AUC-ROC: 0.4545\n",
      "Epoch 3\n"
     ]
    },
    {
     "name": "stderr",
     "output_type": "stream",
     "text": [
      "100%|██████████| 22/22 [00:09<00:00,  2.41batch/s]\n"
     ]
    },
    {
     "name": "stdout",
     "output_type": "stream",
     "text": [
      "Train loss: 0.7473\n",
      "Valid loss: 0.7771 | Valid accuracy: 0.4091 | AUC-ROC: 0.4545\n",
      "Epoch 4\n"
     ]
    },
    {
     "name": "stderr",
     "output_type": "stream",
     "text": [
      "100%|██████████| 22/22 [00:09<00:00,  2.43batch/s]\n"
     ]
    },
    {
     "name": "stdout",
     "output_type": "stream",
     "text": [
      "Train loss: 0.8299\n",
      "Valid loss: 0.7901 | Valid accuracy: 0.4545 | AUC-ROC: 0.4628\n",
      "Epoch 5\n"
     ]
    },
    {
     "name": "stderr",
     "output_type": "stream",
     "text": [
      "100%|██████████| 22/22 [00:09<00:00,  2.41batch/s]\n"
     ]
    },
    {
     "name": "stdout",
     "output_type": "stream",
     "text": [
      "Train loss: 0.5375\n",
      "Valid loss: 0.8069 | Valid accuracy: 0.4545 | AUC-ROC: 0.4380\n",
      "Epoch 6\n"
     ]
    },
    {
     "name": "stderr",
     "output_type": "stream",
     "text": [
      "100%|██████████| 22/22 [00:08<00:00,  2.45batch/s]\n"
     ]
    },
    {
     "name": "stdout",
     "output_type": "stream",
     "text": [
      "Train loss: 0.6062\n",
      "Valid loss: 0.8818 | Valid accuracy: 0.5000 | AUC-ROC: 0.4380\n",
      "Epoch 7\n"
     ]
    },
    {
     "name": "stderr",
     "output_type": "stream",
     "text": [
      "100%|██████████| 22/22 [00:09<00:00,  2.44batch/s]\n"
     ]
    },
    {
     "name": "stdout",
     "output_type": "stream",
     "text": [
      "Train loss: 0.5666\n",
      "Valid loss: 0.8267 | Valid accuracy: 0.4091 | AUC-ROC: 0.4545\n",
      "Epoch 8\n"
     ]
    },
    {
     "name": "stderr",
     "output_type": "stream",
     "text": [
      "100%|██████████| 22/22 [00:09<00:00,  2.40batch/s]\n"
     ]
    },
    {
     "name": "stdout",
     "output_type": "stream",
     "text": [
      "Train loss: 0.4452\n",
      "Valid loss: 0.8309 | Valid accuracy: 0.5000 | AUC-ROC: 0.4545\n",
      "Epoch 9\n"
     ]
    },
    {
     "name": "stderr",
     "output_type": "stream",
     "text": [
      "100%|██████████| 22/22 [00:08<00:00,  2.45batch/s]\n"
     ]
    },
    {
     "name": "stdout",
     "output_type": "stream",
     "text": [
      "Train loss: 0.4340\n",
      "Valid loss: 0.8182 | Valid accuracy: 0.5000 | AUC-ROC: 0.4876\n",
      "Epoch 10\n"
     ]
    },
    {
     "name": "stderr",
     "output_type": "stream",
     "text": [
      "100%|██████████| 22/22 [00:09<00:00,  2.42batch/s]\n"
     ]
    },
    {
     "name": "stdout",
     "output_type": "stream",
     "text": [
      "Train loss: 0.4485\n",
      "Valid loss: 0.8204 | Valid accuracy: 0.5000 | AUC-ROC: 0.5124\n",
      "Epoch 11\n"
     ]
    },
    {
     "name": "stderr",
     "output_type": "stream",
     "text": [
      "100%|██████████| 22/22 [00:09<00:00,  2.44batch/s]\n"
     ]
    },
    {
     "name": "stdout",
     "output_type": "stream",
     "text": [
      "Train loss: 0.4312\n",
      "Valid loss: 0.8279 | Valid accuracy: 0.4545 | AUC-ROC: 0.4876\n",
      "Epoch 12\n"
     ]
    },
    {
     "name": "stderr",
     "output_type": "stream",
     "text": [
      "100%|██████████| 22/22 [00:09<00:00,  2.42batch/s]\n"
     ]
    },
    {
     "name": "stdout",
     "output_type": "stream",
     "text": [
      "Train loss: 0.3534\n",
      "Valid loss: 0.8519 | Valid accuracy: 0.5000 | AUC-ROC: 0.4793\n",
      "Epoch 13\n"
     ]
    },
    {
     "name": "stderr",
     "output_type": "stream",
     "text": [
      "100%|██████████| 22/22 [00:09<00:00,  2.44batch/s]\n"
     ]
    },
    {
     "name": "stdout",
     "output_type": "stream",
     "text": [
      "Train loss: 0.4213\n",
      "Valid loss: 0.8494 | Valid accuracy: 0.5000 | AUC-ROC: 0.4793\n",
      "Epoch 14\n"
     ]
    },
    {
     "name": "stderr",
     "output_type": "stream",
     "text": [
      "100%|██████████| 22/22 [00:09<00:00,  2.41batch/s]\n"
     ]
    },
    {
     "name": "stdout",
     "output_type": "stream",
     "text": [
      "Train loss: 0.3870\n",
      "Valid loss: 0.8492 | Valid accuracy: 0.4545 | AUC-ROC: 0.4793\n",
      "Epoch 0\n"
     ]
    },
    {
     "name": "stderr",
     "output_type": "stream",
     "text": [
      "100%|██████████| 22/22 [00:09<00:00,  2.38batch/s]\n"
     ]
    },
    {
     "name": "stdout",
     "output_type": "stream",
     "text": [
      "Train loss: 1.1359\n",
      "Valid loss: 0.8024 | Valid accuracy: 0.4545 | AUC-ROC: 0.4250\n",
      "Epoch 1\n"
     ]
    },
    {
     "name": "stderr",
     "output_type": "stream",
     "text": [
      "100%|██████████| 22/22 [00:09<00:00,  2.41batch/s]\n"
     ]
    },
    {
     "name": "stdout",
     "output_type": "stream",
     "text": [
      "Train loss: 0.8657\n",
      "Valid loss: 0.8079 | Valid accuracy: 0.4545 | AUC-ROC: 0.3417\n",
      "Epoch 2\n"
     ]
    },
    {
     "name": "stderr",
     "output_type": "stream",
     "text": [
      "100%|██████████| 22/22 [00:09<00:00,  2.40batch/s]\n"
     ]
    },
    {
     "name": "stdout",
     "output_type": "stream",
     "text": [
      "Train loss: 0.9449\n",
      "Valid loss: 0.7743 | Valid accuracy: 0.5455 | AUC-ROC: 0.3750\n",
      "Epoch 3\n"
     ]
    },
    {
     "name": "stderr",
     "output_type": "stream",
     "text": [
      "100%|██████████| 22/22 [00:09<00:00,  2.39batch/s]\n"
     ]
    },
    {
     "name": "stdout",
     "output_type": "stream",
     "text": [
      "Train loss: 0.8394\n",
      "Valid loss: 1.0200 | Valid accuracy: 0.4545 | AUC-ROC: 0.4000\n",
      "Epoch 4\n"
     ]
    },
    {
     "name": "stderr",
     "output_type": "stream",
     "text": [
      "100%|██████████| 22/22 [00:09<00:00,  2.41batch/s]\n"
     ]
    },
    {
     "name": "stdout",
     "output_type": "stream",
     "text": [
      "Train loss: 0.7915\n",
      "Valid loss: 0.7511 | Valid accuracy: 0.5000 | AUC-ROC: 0.4250\n",
      "Epoch 5\n"
     ]
    },
    {
     "name": "stderr",
     "output_type": "stream",
     "text": [
      "100%|██████████| 22/22 [00:09<00:00,  2.41batch/s]\n"
     ]
    },
    {
     "name": "stdout",
     "output_type": "stream",
     "text": [
      "Train loss: 0.7652\n",
      "Valid loss: 0.7581 | Valid accuracy: 0.4545 | AUC-ROC: 0.4167\n",
      "Epoch 6\n"
     ]
    },
    {
     "name": "stderr",
     "output_type": "stream",
     "text": [
      "100%|██████████| 22/22 [00:09<00:00,  2.39batch/s]\n"
     ]
    },
    {
     "name": "stdout",
     "output_type": "stream",
     "text": [
      "Train loss: 0.7254\n",
      "Valid loss: 1.0147 | Valid accuracy: 0.5000 | AUC-ROC: 0.3833\n",
      "Epoch 7\n"
     ]
    },
    {
     "name": "stderr",
     "output_type": "stream",
     "text": [
      "100%|██████████| 22/22 [00:09<00:00,  2.40batch/s]\n"
     ]
    },
    {
     "name": "stdout",
     "output_type": "stream",
     "text": [
      "Train loss: 0.6177\n",
      "Valid loss: 0.7745 | Valid accuracy: 0.4545 | AUC-ROC: 0.4917\n",
      "Epoch 8\n"
     ]
    },
    {
     "name": "stderr",
     "output_type": "stream",
     "text": [
      "100%|██████████| 22/22 [00:09<00:00,  2.41batch/s]\n"
     ]
    },
    {
     "name": "stdout",
     "output_type": "stream",
     "text": [
      "Train loss: 0.5168\n",
      "Valid loss: 0.8504 | Valid accuracy: 0.4091 | AUC-ROC: 0.4250\n",
      "Epoch 9\n"
     ]
    },
    {
     "name": "stderr",
     "output_type": "stream",
     "text": [
      "100%|██████████| 22/22 [00:09<00:00,  2.44batch/s]\n"
     ]
    },
    {
     "name": "stdout",
     "output_type": "stream",
     "text": [
      "Train loss: 0.5415\n",
      "Valid loss: 0.8035 | Valid accuracy: 0.4091 | AUC-ROC: 0.4333\n",
      "Epoch 10\n"
     ]
    },
    {
     "name": "stderr",
     "output_type": "stream",
     "text": [
      "100%|██████████| 22/22 [00:09<00:00,  2.42batch/s]\n"
     ]
    },
    {
     "name": "stdout",
     "output_type": "stream",
     "text": [
      "Train loss: 0.4898\n",
      "Valid loss: 0.8040 | Valid accuracy: 0.4091 | AUC-ROC: 0.4333\n",
      "Epoch 11\n"
     ]
    },
    {
     "name": "stderr",
     "output_type": "stream",
     "text": [
      "100%|██████████| 22/22 [00:09<00:00,  2.39batch/s]\n"
     ]
    },
    {
     "name": "stdout",
     "output_type": "stream",
     "text": [
      "Train loss: 0.4355\n",
      "Valid loss: 0.8099 | Valid accuracy: 0.4091 | AUC-ROC: 0.4500\n",
      "Epoch 12\n"
     ]
    },
    {
     "name": "stderr",
     "output_type": "stream",
     "text": [
      "100%|██████████| 22/22 [00:09<00:00,  2.40batch/s]\n"
     ]
    },
    {
     "name": "stdout",
     "output_type": "stream",
     "text": [
      "Train loss: 0.3776\n",
      "Valid loss: 0.8151 | Valid accuracy: 0.4091 | AUC-ROC: 0.4500\n",
      "Epoch 13\n"
     ]
    },
    {
     "name": "stderr",
     "output_type": "stream",
     "text": [
      "100%|██████████| 22/22 [00:09<00:00,  2.41batch/s]\n"
     ]
    },
    {
     "name": "stdout",
     "output_type": "stream",
     "text": [
      "Train loss: 0.3811\n",
      "Valid loss: 0.8160 | Valid accuracy: 0.4091 | AUC-ROC: 0.4500\n",
      "Epoch 14\n"
     ]
    },
    {
     "name": "stderr",
     "output_type": "stream",
     "text": [
      "100%|██████████| 22/22 [00:09<00:00,  2.41batch/s]\n"
     ]
    },
    {
     "name": "stdout",
     "output_type": "stream",
     "text": [
      "Train loss: 0.4331\n",
      "Valid loss: 0.8164 | Valid accuracy: 0.4091 | AUC-ROC: 0.4500\n",
      "Epoch 0\n"
     ]
    },
    {
     "name": "stderr",
     "output_type": "stream",
     "text": [
      "100%|██████████| 22/22 [00:09<00:00,  2.38batch/s]\n"
     ]
    },
    {
     "name": "stdout",
     "output_type": "stream",
     "text": [
      "Train loss: 0.7493\n",
      "Valid loss: 0.6748 | Valid accuracy: 0.4762 | AUC-ROC: 0.5273\n",
      "Epoch 1\n"
     ]
    },
    {
     "name": "stderr",
     "output_type": "stream",
     "text": [
      "100%|██████████| 22/22 [00:09<00:00,  2.41batch/s]\n"
     ]
    },
    {
     "name": "stdout",
     "output_type": "stream",
     "text": [
      "Train loss: 0.8795\n",
      "Valid loss: 0.7003 | Valid accuracy: 0.5238 | AUC-ROC: 0.5273\n",
      "Epoch 2\n"
     ]
    },
    {
     "name": "stderr",
     "output_type": "stream",
     "text": [
      "100%|██████████| 22/22 [00:09<00:00,  2.40batch/s]\n"
     ]
    },
    {
     "name": "stdout",
     "output_type": "stream",
     "text": [
      "Train loss: 0.9547\n",
      "Valid loss: 0.7076 | Valid accuracy: 0.5238 | AUC-ROC: 0.6000\n",
      "Epoch 3\n"
     ]
    },
    {
     "name": "stderr",
     "output_type": "stream",
     "text": [
      "100%|██████████| 22/22 [00:09<00:00,  2.42batch/s]\n"
     ]
    },
    {
     "name": "stdout",
     "output_type": "stream",
     "text": [
      "Train loss: 0.7808\n",
      "Valid loss: 0.7920 | Valid accuracy: 0.5238 | AUC-ROC: 0.6091\n",
      "Epoch 4\n"
     ]
    },
    {
     "name": "stderr",
     "output_type": "stream",
     "text": [
      "100%|██████████| 22/22 [00:09<00:00,  2.39batch/s]\n"
     ]
    },
    {
     "name": "stdout",
     "output_type": "stream",
     "text": [
      "Train loss: 0.7506\n",
      "Valid loss: 0.6747 | Valid accuracy: 0.4762 | AUC-ROC: 0.5636\n",
      "Epoch 5\n"
     ]
    },
    {
     "name": "stderr",
     "output_type": "stream",
     "text": [
      "100%|██████████| 22/22 [00:09<00:00,  2.42batch/s]\n"
     ]
    },
    {
     "name": "stdout",
     "output_type": "stream",
     "text": [
      "Train loss: 0.7214\n",
      "Valid loss: 0.6711 | Valid accuracy: 0.4286 | AUC-ROC: 0.5636\n",
      "Epoch 6\n"
     ]
    },
    {
     "name": "stderr",
     "output_type": "stream",
     "text": [
      "100%|██████████| 22/22 [00:09<00:00,  2.40batch/s]\n"
     ]
    },
    {
     "name": "stdout",
     "output_type": "stream",
     "text": [
      "Train loss: 0.5860\n",
      "Valid loss: 0.6804 | Valid accuracy: 0.4286 | AUC-ROC: 0.5636\n",
      "Epoch 7\n"
     ]
    },
    {
     "name": "stderr",
     "output_type": "stream",
     "text": [
      "100%|██████████| 22/22 [00:09<00:00,  2.40batch/s]\n"
     ]
    },
    {
     "name": "stdout",
     "output_type": "stream",
     "text": [
      "Train loss: 0.4598\n",
      "Valid loss: 0.6669 | Valid accuracy: 0.5238 | AUC-ROC: 0.5909\n",
      "Epoch 8\n"
     ]
    },
    {
     "name": "stderr",
     "output_type": "stream",
     "text": [
      "100%|██████████| 22/22 [00:09<00:00,  2.41batch/s]\n"
     ]
    },
    {
     "name": "stdout",
     "output_type": "stream",
     "text": [
      "Train loss: 0.4895\n",
      "Valid loss: 0.6792 | Valid accuracy: 0.5238 | AUC-ROC: 0.6091\n",
      "Epoch 9\n"
     ]
    },
    {
     "name": "stderr",
     "output_type": "stream",
     "text": [
      "100%|██████████| 22/22 [00:09<00:00,  2.40batch/s]\n"
     ]
    },
    {
     "name": "stdout",
     "output_type": "stream",
     "text": [
      "Train loss: 0.4208\n",
      "Valid loss: 0.6666 | Valid accuracy: 0.6190 | AUC-ROC: 0.6545\n",
      "Epoch 10\n"
     ]
    },
    {
     "name": "stderr",
     "output_type": "stream",
     "text": [
      "100%|██████████| 22/22 [00:09<00:00,  2.40batch/s]\n"
     ]
    },
    {
     "name": "stdout",
     "output_type": "stream",
     "text": [
      "Train loss: 0.5055\n",
      "Valid loss: 0.6751 | Valid accuracy: 0.6667 | AUC-ROC: 0.6545\n",
      "Epoch 11\n"
     ]
    },
    {
     "name": "stderr",
     "output_type": "stream",
     "text": [
      "100%|██████████| 22/22 [00:09<00:00,  2.40batch/s]\n"
     ]
    },
    {
     "name": "stdout",
     "output_type": "stream",
     "text": [
      "Train loss: 0.4087\n",
      "Valid loss: 0.6787 | Valid accuracy: 0.6190 | AUC-ROC: 0.6636\n",
      "Epoch 12\n"
     ]
    },
    {
     "name": "stderr",
     "output_type": "stream",
     "text": [
      "100%|██████████| 22/22 [00:09<00:00,  2.37batch/s]\n"
     ]
    },
    {
     "name": "stdout",
     "output_type": "stream",
     "text": [
      "Train loss: 0.4692\n",
      "Valid loss: 0.6572 | Valid accuracy: 0.5238 | AUC-ROC: 0.6636\n",
      "Epoch 13\n"
     ]
    },
    {
     "name": "stderr",
     "output_type": "stream",
     "text": [
      "100%|██████████| 22/22 [00:09<00:00,  2.39batch/s]\n"
     ]
    },
    {
     "name": "stdout",
     "output_type": "stream",
     "text": [
      "Train loss: 0.4468\n",
      "Valid loss: 0.6533 | Valid accuracy: 0.5238 | AUC-ROC: 0.6636\n",
      "Epoch 14\n"
     ]
    },
    {
     "name": "stderr",
     "output_type": "stream",
     "text": [
      "100%|██████████| 22/22 [00:09<00:00,  2.39batch/s]\n"
     ]
    },
    {
     "name": "stdout",
     "output_type": "stream",
     "text": [
      "Train loss: 0.3930\n",
      "Valid loss: 0.6528 | Valid accuracy: 0.5238 | AUC-ROC: 0.6636\n",
      "Epoch 0\n"
     ]
    },
    {
     "name": "stderr",
     "output_type": "stream",
     "text": [
      "100%|██████████| 22/22 [00:09<00:00,  2.40batch/s]\n"
     ]
    },
    {
     "name": "stdout",
     "output_type": "stream",
     "text": [
      "Train loss: 0.8477\n",
      "Valid loss: 0.7082 | Valid accuracy: 0.4762 | AUC-ROC: 0.4545\n",
      "Epoch 1\n"
     ]
    },
    {
     "name": "stderr",
     "output_type": "stream",
     "text": [
      "100%|██████████| 22/22 [00:09<00:00,  2.40batch/s]\n"
     ]
    },
    {
     "name": "stdout",
     "output_type": "stream",
     "text": [
      "Train loss: 1.0482\n",
      "Valid loss: 0.6807 | Valid accuracy: 0.6190 | AUC-ROC: 0.5727\n",
      "Epoch 2\n"
     ]
    },
    {
     "name": "stderr",
     "output_type": "stream",
     "text": [
      "100%|██████████| 22/22 [00:09<00:00,  2.40batch/s]\n"
     ]
    },
    {
     "name": "stdout",
     "output_type": "stream",
     "text": [
      "Train loss: 0.8310\n",
      "Valid loss: 0.7595 | Valid accuracy: 0.4286 | AUC-ROC: 0.4364\n",
      "Epoch 3\n"
     ]
    },
    {
     "name": "stderr",
     "output_type": "stream",
     "text": [
      "100%|██████████| 22/22 [00:09<00:00,  2.38batch/s]\n"
     ]
    },
    {
     "name": "stdout",
     "output_type": "stream",
     "text": [
      "Train loss: 0.7113\n",
      "Valid loss: 0.7591 | Valid accuracy: 0.4286 | AUC-ROC: 0.4818\n",
      "Epoch 4\n"
     ]
    },
    {
     "name": "stderr",
     "output_type": "stream",
     "text": [
      "100%|██████████| 22/22 [00:09<00:00,  2.39batch/s]\n"
     ]
    },
    {
     "name": "stdout",
     "output_type": "stream",
     "text": [
      "Train loss: 0.8053\n",
      "Valid loss: 0.7066 | Valid accuracy: 0.4286 | AUC-ROC: 0.5364\n",
      "Epoch 5\n"
     ]
    },
    {
     "name": "stderr",
     "output_type": "stream",
     "text": [
      "100%|██████████| 22/22 [00:09<00:00,  2.36batch/s]\n"
     ]
    },
    {
     "name": "stdout",
     "output_type": "stream",
     "text": [
      "Train loss: 0.5624\n",
      "Valid loss: 0.7443 | Valid accuracy: 0.4762 | AUC-ROC: 0.5182\n",
      "Epoch 6\n"
     ]
    },
    {
     "name": "stderr",
     "output_type": "stream",
     "text": [
      "100%|██████████| 22/22 [00:09<00:00,  2.35batch/s]\n"
     ]
    },
    {
     "name": "stdout",
     "output_type": "stream",
     "text": [
      "Train loss: 0.6658\n",
      "Valid loss: 0.6926 | Valid accuracy: 0.4762 | AUC-ROC: 0.5545\n",
      "Epoch 7\n"
     ]
    },
    {
     "name": "stderr",
     "output_type": "stream",
     "text": [
      "100%|██████████| 22/22 [00:09<00:00,  2.38batch/s]\n"
     ]
    },
    {
     "name": "stdout",
     "output_type": "stream",
     "text": [
      "Train loss: 0.5207\n",
      "Valid loss: 0.7409 | Valid accuracy: 0.4762 | AUC-ROC: 0.5091\n",
      "Epoch 8\n"
     ]
    },
    {
     "name": "stderr",
     "output_type": "stream",
     "text": [
      "100%|██████████| 22/22 [00:09<00:00,  2.36batch/s]\n"
     ]
    },
    {
     "name": "stdout",
     "output_type": "stream",
     "text": [
      "Train loss: 0.4806\n",
      "Valid loss: 0.7284 | Valid accuracy: 0.5714 | AUC-ROC: 0.4909\n",
      "Epoch 9\n"
     ]
    },
    {
     "name": "stderr",
     "output_type": "stream",
     "text": [
      "100%|██████████| 22/22 [00:09<00:00,  2.34batch/s]\n"
     ]
    },
    {
     "name": "stdout",
     "output_type": "stream",
     "text": [
      "Train loss: 0.4709\n",
      "Valid loss: 0.7544 | Valid accuracy: 0.4286 | AUC-ROC: 0.4909\n",
      "Epoch 10\n"
     ]
    },
    {
     "name": "stderr",
     "output_type": "stream",
     "text": [
      "100%|██████████| 22/22 [00:09<00:00,  2.37batch/s]\n"
     ]
    },
    {
     "name": "stdout",
     "output_type": "stream",
     "text": [
      "Train loss: 0.4349\n",
      "Valid loss: 0.7905 | Valid accuracy: 0.4762 | AUC-ROC: 0.4727\n",
      "Epoch 11\n"
     ]
    },
    {
     "name": "stderr",
     "output_type": "stream",
     "text": [
      "100%|██████████| 22/22 [00:09<00:00,  2.35batch/s]\n"
     ]
    },
    {
     "name": "stdout",
     "output_type": "stream",
     "text": [
      "Train loss: 0.4195\n",
      "Valid loss: 0.7754 | Valid accuracy: 0.4286 | AUC-ROC: 0.4909\n",
      "Epoch 12\n"
     ]
    },
    {
     "name": "stderr",
     "output_type": "stream",
     "text": [
      "100%|██████████| 22/22 [00:09<00:00,  2.38batch/s]\n"
     ]
    },
    {
     "name": "stdout",
     "output_type": "stream",
     "text": [
      "Train loss: 0.4400\n",
      "Valid loss: 0.7665 | Valid accuracy: 0.4286 | AUC-ROC: 0.5000\n",
      "Epoch 13\n"
     ]
    },
    {
     "name": "stderr",
     "output_type": "stream",
     "text": [
      "100%|██████████| 22/22 [00:09<00:00,  2.38batch/s]\n"
     ]
    },
    {
     "name": "stdout",
     "output_type": "stream",
     "text": [
      "Train loss: 0.4425\n",
      "Valid loss: 0.7685 | Valid accuracy: 0.4286 | AUC-ROC: 0.5000\n",
      "Epoch 14\n"
     ]
    },
    {
     "name": "stderr",
     "output_type": "stream",
     "text": [
      "100%|██████████| 22/22 [00:09<00:00,  2.37batch/s]\n"
     ]
    },
    {
     "name": "stdout",
     "output_type": "stream",
     "text": [
      "Train loss: 0.4362\n",
      "Valid loss: 0.7688 | Valid accuracy: 0.4286 | AUC-ROC: 0.5000\n"
     ]
    }
   ],
   "source": [
    "torch.cuda.empty_cache()\n",
    "gc.collect()\n",
    "\n",
    "all_probs = []\n",
    "all_labels = []\n",
    "\n",
    "for fold in range(config.FOLDS):\n",
    "    train_df = df[df['fold'] != fold]\n",
    "    valid_df = df[df['fold'] == fold]\n",
    "\n",
    "    train_dataset = AudioDataset(train_df, mode='train')\n",
    "    valid_dataset = AudioDataset(valid_df, mode='test')\n",
    "\n",
    "    train_loader = DataLoader(train_dataset, batch_size=config.BATCH_SIZE_TRAIN, shuffle=True, num_workers=config.NUM_WORKERS)\n",
    "    valid_loader = DataLoader(valid_dataset, batch_size=config.BATCH_SIZE_VALID, shuffle=False, num_workers=config.NUM_WORKERS)\n",
    "\n",
    "    model = AlzheimersModel().to(device)\n",
    "    optimizer = torch.optim.AdamW(model.parameters(), lr=config.MAX_LR, weight_decay=config.WEIGHT_DECAY)\n",
    "    scheduler = OneCycleLR(optimizer, \n",
    "                           max_lr=config.MAX_LR, \n",
    "                           epochs=config.EPOCHS, \n",
    "                           steps_per_epoch=len(train_loader), \n",
    "                           pct_start=0.1,\n",
    "                           anneal_strategy='cos',\n",
    "                           div_factor=10,\n",
    "                           final_div_factor=100\n",
    "                           )\n",
    "\n",
    "    train_losses = []\n",
    "    valid_losses = []\n",
    "    accs = []\n",
    "    aucs = []\n",
    "\n",
    "    for epoch in range(config.EPOCHS):\n",
    "        print(f'Epoch {epoch}')\n",
    "        train_loss = train_epoch(train_loader, model, optimizer, epoch, scheduler)\n",
    "\n",
    "        valid_loss, acc, auc, pr, al = evaluate(model, valid_loader)\n",
    "\n",
    "        train_losses.append(train_loss)\n",
    "        valid_losses.append(valid_loss)\n",
    "        accs.append(acc)\n",
    "        aucs.append(auc.cpu().numpy())\n",
    "\n",
    "\n",
    "    all_probs.append(pr)\n",
    "    all_labels.append(al)\n",
    "    torch.save(model.state_dict(), f'{paths.OUTPUT_DIR}model_{fold}.pth')\n",
    "    del model, optimizer, scheduler\n",
    "    gc.collect()\n",
    "    torch.cuda.empty_cache()\n",
    "    \n"
   ]
  },
  {
   "cell_type": "code",
   "execution_count": null,
   "metadata": {},
   "outputs": [],
   "source": [
    "def flatten(xss):\n",
    "    return [x for xs in xss for x in xs]\n",
    "\n",
    "# Save probabilities and labels for each fold in csv\n",
    "all_probs_n = np.array(flatten(all_probs))\n",
    "all_labels_n = np.array(flatten(all_labels))\n",
    "res_df = pd.DataFrame({'probs': all_probs_n, 'labels': all_labels_n})\n",
    "res_df.to_csv(f'{paths.OUTPUT_DIR}probs_labels.csv', index=False)"
   ]
  },
  {
   "cell_type": "code",
   "execution_count": null,
   "metadata": {},
   "outputs": [
    {
     "data": {
      "image/png": "[encoded data removed]",
      "text/plain": [
       "<Figure size 1000x500 with 2 Axes>"
      ]
     },
     "metadata": {},
     "output_type": "display_data"
    },
    {
     "name": "stdout",
     "output_type": "stream",
     "text": [
      "[array([0.47828823, 0.3990889 , 0.56972045, 0.51169187, 0.53885114,\n",
      "       0.4967405 , 0.36329317, 0.6474085 , 0.34306803, 0.41595227,\n",
      "       0.73148906, 0.582673  , 0.6225526 , 0.626356  , 0.649239  ,\n",
      "       0.65320957, 0.59526014, 0.4097039 , 0.48210973, 0.55616134,\n",
      "       0.44343886, 0.58894295], dtype=float32), array([0.8330304 , 0.818997  , 0.06416773, 0.69031054, 0.20480862,\n",
      "       0.2842055 , 0.58271986, 0.6319503 , 0.56992775, 0.59955037,\n",
      "       0.47038049, 0.7473628 , 0.50728744, 0.192592  , 0.40570733,\n",
      "       0.55183053, 0.09122854, 0.8051468 , 0.6980444 , 0.49978155,\n",
      "       0.30024052, 0.87632585], dtype=float32), array([0.6269255 , 0.58755827, 0.67870903, 0.57154995, 0.75621647,\n",
      "       0.6135392 , 0.1123328 , 0.7051713 , 0.35669714, 0.3844581 ,\n",
      "       0.5866367 , 0.33865896, 0.7319071 , 0.4444561 , 0.3926747 ,\n",
      "       0.3476807 , 0.7015635 , 0.5304706 , 0.65111   , 0.14047971,\n",
      "       0.62110364, 0.298394  ], dtype=float32), array([0.5563515 , 0.316937  , 0.5426535 , 0.3194763 , 0.3866466 ,\n",
      "       0.21760523, 0.2739137 , 0.26699114, 0.68195474, 0.32196203,\n",
      "       0.56281453, 0.77920395, 0.47154418, 0.29675183, 0.2617301 ,\n",
      "       0.43523726, 0.35142565, 0.6393956 , 0.5720001 , 0.7303581 ,\n",
      "       0.4200739 ], dtype=float32), array([0.18896976, 0.31668046, 0.6510877 , 0.42813206, 0.54905975,\n",
      "       0.34117082, 0.54504764, 0.49114764, 0.72410333, 0.36545366,\n",
      "       0.4937742 , 0.6791533 , 0.5844583 , 0.5666939 , 0.35327458,\n",
      "       0.4702437 , 0.17824723, 0.49425414, 0.36727938, 0.35648417,\n",
      "       0.34349886], dtype=float32)] [array([0., 0., 0., 0., 0., 0., 0., 0., 0., 0., 1., 1., 1., 1., 1., 1., 1.,\n",
      "       1., 1., 1., 1., 1.], dtype=float32), array([0., 0., 0., 0., 0., 0., 0., 0., 0., 0., 0., 1., 1., 1., 1., 1., 1.,\n",
      "       1., 1., 1., 1., 1.], dtype=float32), array([0., 0., 0., 0., 0., 0., 0., 0., 0., 0., 0., 0., 1., 1., 1., 1., 1.,\n",
      "       1., 1., 1., 1., 1.], dtype=float32), array([0., 0., 0., 0., 0., 0., 0., 0., 0., 0., 0., 1., 1., 1., 1., 1., 1.,\n",
      "       1., 1., 1., 1.], dtype=float32), array([0., 0., 0., 0., 0., 0., 0., 0., 0., 0., 1., 1., 1., 1., 1., 1., 1.,\n",
      "       1., 1., 1., 1.], dtype=float32)]\n"
     ]
    },
    {
     "data": {
      "image/png": "[encoded data removed]",
      "text/plain": [
       "<Figure size 640x480 with 1 Axes>"
      ]
     },
     "metadata": {},
     "output_type": "display_data"
    }
   ],
   "source": [
    "# Plot training and validation loss and acc\n",
    "plt.figure(figsize=(10, 5))\n",
    "plt.subplot(1, 2, 1)\n",
    "plt.plot(train_losses, label='train')\n",
    "plt.plot(valid_losses, label='valid')\n",
    "plt.legend()\n",
    "plt.title('Loss')\n",
    "plt.subplot(1, 2, 2)\n",
    "plt.plot(accs, label='valid')\n",
    "plt.legend()\n",
    "plt.title('Accuracy')\n",
    "plt.show()\n",
    "\n",
    "def flatten(xss):\n",
    "    return [x for xs in xss for x in xs]\n",
    "\n",
    "print(all_probs, all_labels)\n",
    "\n",
    "fpr, tpr, thresholds = roc_curve(flatten(all_labels), flatten(all_probs))\n",
    "auc_roc = roc_auc_score(flatten(all_labels), flatten(all_probs))\n",
    "\n",
    "# fpr, tpr, thresholds = roc_curve(all_labels[0], all_probs[0])\n",
    "# auc_roc = roc_auc_score(all_labels[0], all_probs[0])\n",
    "\n",
    "display = RocCurveDisplay(fpr=fpr, tpr=tpr, roc_auc=auc_roc, estimator_name='AST')\n",
    "display.plot()\n",
    "\n",
    "# Add AUC = 0.5 line\n",
    "plt.plot([0, 1], [0, 1], linestyle='--', color='gray', label='Random (AUC = 0.5)')\n",
    "\n",
    "# Show the plot with legend\n",
    "plt.legend()\n",
    "plt.show()\n",
    "\n",
    "# Save the plot\n",
    "# plt.savefig(f'{paths.OUTPUT_DIR}roc_curve.png')\n"
   ]
  }
 ],
 "metadata": {
  "kernelspec": {
   "display_name": ".venv",
   "language": "python",
   "name": "python3"
  },
  "language_info": {
   "codemirror_mode": {
    "name": "ipython",
    "version": 3
   },
   "file_extension": ".py",
   "mimetype": "text/x-python",
   "name": "python",
   "nbconvert_exporter": "python",
   "pygments_lexer": "ipython3",
   "version": "3.10.6"
  }
 },
 "nbformat": 4,
 "nbformat_minor": 2
}
