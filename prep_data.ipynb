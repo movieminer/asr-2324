{
 "cells": [
  {
   "cell_type": "code",
   "execution_count": 4,
   "metadata": {},
   "outputs": [],
   "source": [
    "import os\n",
    "from os import path\n",
    "import pylangacq"
   ]
  },
  {
   "cell_type": "code",
   "execution_count": 3,
   "metadata": {},
   "outputs": [],
   "source": [
    "class Paths:\n",
    "  transcriptions = 'datasets/addresso/train/transcription'\n",
    "  text_participants = 'datasets/addresso/train/text_participants'\n",
    "  text_both = 'datasets/addresso/train/text_both'"
   ]
  },
  {
   "cell_type": "code",
   "execution_count": 38,
   "metadata": {},
   "outputs": [],
   "source": [
    "def path_to_text(path, full_transcript=False):\n",
    "    chat = pylangacq.read_chat(path)\n",
    "    utterances = [utterance for utterance in chat.utterances()]\n",
    "    tokens = [(token, utterance.participant) for utterance in utterances for token in utterance.tokens]\n",
    "    words = [(token.word, participant) for (token, participant) in tokens]\n",
    "\n",
    "    if not full_transcript:\n",
    "      words = list(filter(lambda w: w[1] == 'PAR', words))\n",
    "    text = ''\n",
    "    for i, word_par in enumerate(words):\n",
    "      word = word_par[0]\n",
    "      par = word_par[1]\n",
    "      if word in ['POSTCLITIC']:\n",
    "        continue\n",
    "      if word in ['.', '?', '!']:\n",
    "        text += f'{word}\\n'\n",
    "      else:\n",
    "        if i == 0 or words[i-1][0] in ['.', '?', '!']:\n",
    "          if full_transcript:\n",
    "            text += f'{par}: '\n",
    "          text += word.capitalize()\n",
    "        else:\n",
    "          text += word\n",
    "        if i < len(words) - 1 and words[i+1][0] not in ['.', ',', '?', '!']:\n",
    "          text += ' '\n",
    "    return text"
   ]
  },
  {
   "cell_type": "code",
   "execution_count": 32,
   "metadata": {},
   "outputs": [
    {
     "name": "stdout",
     "output_type": "stream",
     "text": [
      "INV: One more thing.\n",
      "INV: What I want you to do is take a look at that picture.\n",
      "PAR: Mhm.\n",
      "INV: And tell me everything you see happening, everything that's going on.\n",
      "PAR: Well the water's running over on the floor.\n",
      "PAR: The stool is tilting.\n",
      "PAR: The boy is into the cookie jar.\n",
      "PAR: And his sister is reaching for a cookie.\n",
      "PAR: The mother's drying dishes.\n",
      "PAR: Do you want action or just want anything I see?\n",
      "INV: Just action.\n",
      "PAR: Okay.\n",
      "INV: Okay thanks very much.\n",
      "PAR: Mhm.\n",
      "\n"
     ]
    }
   ],
   "source": [
    "print(path_to_text(path.join(Paths.transcriptions, 'S033.cha'), full_transcript=True))"
   ]
  },
  {
   "cell_type": "code",
   "execution_count": 39,
   "metadata": {},
   "outputs": [],
   "source": [
    "for file in os.listdir(Paths.transcriptions):\n",
    "  if file.endswith('.cha'):\n",
    "    ID = file.split('.')[0]\n",
    "\n",
    "    text_participants = path_to_text(path.join(Paths.transcriptions, file), full_transcript=False)\n",
    "    text_both = path_to_text(path.join(Paths.transcriptions, file), full_transcript=True)\n",
    "\n",
    "    if not os.path.exists(Paths.text_participants):\n",
    "      os.makedirs(Paths.text_participants)\n",
    "    with open(path.join(Paths.text_participants, f'{ID}.txt'), 'w') as f:\n",
    "      f.write(text_participants)\n",
    "\n",
    "    if not os.path.exists(Paths.text_both):\n",
    "      os.makedirs(Paths.text_both)\n",
    "    with open(path.join(Paths.text_both, f'{ID}.txt'), 'w') as f:\n",
    "      f.write(text_both)"
   ]
  }
 ],
 "metadata": {
  "kernelspec": {
   "display_name": "torch-gpu",
   "language": "python",
   "name": "python3"
  },
  "language_info": {
   "codemirror_mode": {
    "name": "ipython",
    "version": 3
   },
   "file_extension": ".py",
   "mimetype": "text/x-python",
   "name": "python",
   "nbconvert_exporter": "python",
   "pygments_lexer": "ipython3",
   "version": "3.8.17"
  }
 },
 "nbformat": 4,
 "nbformat_minor": 2
}
