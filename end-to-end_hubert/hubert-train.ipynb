{
 "cells": [
  {
   "cell_type": "markdown",
   "metadata": {},
   "source": [
    "# Alzheimer's Classification [Train]"
   ]
  },
  {
   "cell_type": "markdown",
   "metadata": {},
   "source": [
    "## Config"
   ]
  },
  {
   "cell_type": "code",
   "execution_count": 72,
   "metadata": {},
   "outputs": [
    {
     "name": "stdout",
     "output_type": "stream",
     "text": [
      "Using 1 GPU(s)\n"
     ]
    }
   ],
   "source": [
    "import os\n",
    "os.environ[\"CUDA_VISIBLE_DEVICES\"] = \"0\"\n",
    "\n",
    "from PIL import Image\n",
    "from numpy import asarray\n",
    "import gc\n",
    "import matplotlib.pyplot as plt\n",
    "import math\n",
    "import multiprocessing\n",
    "import numpy as np\n",
    "import pandas as pd\n",
    "import random\n",
    "import time\n",
    "import timm\n",
    "import torch\n",
    "import torch.nn as nn\n",
    "import torch.nn.functional as F\n",
    "from torch.optim.lr_scheduler import OneCycleLR\n",
    "from sklearn.model_selection import train_test_split, KFold, GroupKFold\n",
    "from sklearn.preprocessing import StandardScaler\n",
    "import torchmetrics\n",
    "import cv2\n",
    "import pickle\n",
    "import transformers\n",
    "import scipy.io.wavfile as wavfile\n",
    "import datasets as ds\n",
    "import librosa\n",
    "import evaluate\n",
    "from sklearn.metrics import roc_curve, roc_auc_score, RocCurveDisplay\n",
    "from librosa import effects\n",
    "\n",
    "\n",
    "from glob import glob\n",
    "from torch.utils.data import DataLoader, Dataset\n",
    "from tqdm import tqdm\n",
    "from typing import Dict, List\n",
    "\n",
    "device = torch.device(\"cuda:0\" if torch.cuda.is_available() else \"cpu\")\n",
    "print('Using', torch.cuda.device_count(), 'GPU(s)')"
   ]
  },
  {
   "cell_type": "code",
   "execution_count": 73,
   "metadata": {},
   "outputs": [],
   "source": [
    "class config:\n",
    "    DEVICE = 'cuda'\n",
    "    AMP = True\n",
    "    MAX_GRAD_NORM = 1e7\n",
    "    NUM_WORKERS = 0 # multiprocessing.cpu_count()\n",
    "    PRINT_FREQ = 20\n",
    "    SEED = 20\n",
    "    VISUALIZE = True\n",
    "\n",
    "    MODEL = \"facebook/hubert-base-ls960\"\n",
    "    BATCH_SIZE_TRAIN = 4\n",
    "    BATCH_SIZE_VALID = 4\n",
    "    EPOCHS = 20\n",
    "    FOLDS = 5\n",
    "    VAL_SIZE = .2   # If FOLDS=1 \n",
    "    WEIGHT_DECAY = 0.0001\n",
    "    MAX_LR = 1e-5\n",
    "    \n",
    "    \n",
    "class paths:\n",
    "    OUTPUT_DIR = './output/'\n",
    "    DATASET = '../datasets/addresso/train/'\n",
    "    TRANSCRIPT = '../datasets/addresso/train/transcription/'\n",
    "    AUDIO = '../datasets/addresso/train/concatenated/'"
   ]
  },
  {
   "cell_type": "markdown",
   "metadata": {},
   "source": [
    "### Utility functions"
   ]
  },
  {
   "cell_type": "code",
   "execution_count": 74,
   "metadata": {},
   "outputs": [],
   "source": [
    "class AverageMeter(object):\n",
    "    \"\"\"Computes and stores the average and current value\"\"\"\n",
    "    def __init__(self):\n",
    "        self.reset()\n",
    "\n",
    "    def reset(self):\n",
    "        self.val = 0\n",
    "        self.avg = 0\n",
    "        self.sum = 0\n",
    "        self.count = 0\n",
    "\n",
    "    def update(self, val, n=1):\n",
    "        self.val = val\n",
    "        self.sum += val * n\n",
    "        self.count += n\n",
    "        self.avg = self.sum / self.count\n",
    "        \n",
    "def asMinutes(s: float):\n",
    "    \"Convert to minutes.\"\n",
    "    m = math.floor(s / 60)\n",
    "    s -= m * 60\n",
    "    return '%dm %ds' % (m, s)\n",
    "\n",
    "\n",
    "def timeSince(since: float, percent: float):\n",
    "    now = time.time()\n",
    "    s = now - since\n",
    "    es = s / (percent)\n",
    "    rs = es - s\n",
    "    return '%s (remain %s)' % (asMinutes(s), asMinutes(rs))\n",
    "\n",
    "\n",
    "def get_logger(filename=paths.OUTPUT_DIR):\n",
    "    from logging import getLogger, INFO, StreamHandler, FileHandler, Formatter\n",
    "    logger = getLogger(__name__)\n",
    "    logger.setLevel(INFO)\n",
    "    handler1 = StreamHandler()\n",
    "    handler1.setFormatter(Formatter(\"%(message)s\"))\n",
    "    handler2 = FileHandler(filename=f\"{filename}.log\")\n",
    "    handler2.setFormatter(Formatter(\"%(message)s\"))\n",
    "    logger.addHandler(handler1)\n",
    "    logger.addHandler(handler2)\n",
    "    return logger\n",
    "    \n",
    "    \n",
    "def seed_everything(seed: int):\n",
    "    random.seed(seed)\n",
    "    np.random.seed(seed)\n",
    "    torch.manual_seed(seed)\n",
    "    os.environ['PYTHONHASHSEED'] = str(seed) \n",
    "\n",
    "    \n",
    "def sep():\n",
    "    print(\"-\"*100)\n",
    "    \n",
    "LOGGER = get_logger()\n",
    "seed_everything(config.SEED)"
   ]
  },
  {
   "cell_type": "markdown",
   "metadata": {},
   "source": [
    "## Loading Data"
   ]
  },
  {
   "cell_type": "code",
   "execution_count": 75,
   "metadata": {},
   "outputs": [],
   "source": [
    "df = pd.read_csv(paths.DATASET + 'meta_data.csv')\n",
    "df = df.drop(columns=['age', 'gender', 'mmse'])\n",
    "df['audio'] = df['ID'].apply(lambda x: paths.AUDIO +str(x)+'.wav')\n"
   ]
  },
  {
   "cell_type": "code",
   "execution_count": 76,
   "metadata": {},
   "outputs": [
    {
     "name": "stdout",
     "output_type": "stream",
     "text": [
      "            ID  audio\n",
      "fold class           \n",
      "0.0  0      10     10\n",
      "     1      12     12\n",
      "1.0  0      11     11\n",
      "     1      11     11\n",
      "2.0  0      12     12\n",
      "     1      10     10\n",
      "3.0  0      11     11\n",
      "     1      10     10\n",
      "4.0  0      10     10\n",
      "     1      11     11\n"
     ]
    }
   ],
   "source": [
    "if config.FOLDS > 1:\n",
    "    gkf = GroupKFold(n_splits=config.FOLDS)\n",
    "    for fold, (train_index, valid_index) in enumerate(gkf.split(df, df['class'], df['ID'])):\n",
    "        df.loc[valid_index, \"fold\"] = int(fold)\n",
    "\n",
    "df.head()\n",
    "print(df.groupby(['fold', 'class']).count())"
   ]
  },
  {
   "cell_type": "code",
   "execution_count": 77,
   "metadata": {},
   "outputs": [],
   "source": [
    "class AudioDataset(Dataset):\n",
    "    def __init__(self, df, mode='train', target_sr=16000):\n",
    "        self.df = df\n",
    "        self.mode = mode\n",
    "        self.f_ex = transformers.AutoFeatureExtractor.from_pretrained(config.MODEL, do_normalize=True, return_attention_mask=True)\n",
    "        self.target_sr = target_sr\n",
    "\n",
    "    def __len__(self):\n",
    "        return len(self.df)\n",
    "    \n",
    "    def __getitem__(self, idx):\n",
    "        audio_path = self.df.iloc[idx]['audio']\n",
    "        audio, sr = librosa.load(audio_path)\n",
    "\n",
    "        if self.mode == 'train' and False:\n",
    "          audio = self.speech_augmentation(audio, sr)\n",
    "\n",
    "        audio_resampled = librosa.resample(audio, orig_sr=sr, target_sr=self.target_sr)\n",
    "      \n",
    "        features = self.preprocess(audio_resampled, max_length=45)\n",
    "        labels = self.df.iloc[idx]['class']\n",
    "\n",
    "        return features, labels\n",
    "\n",
    "    def preprocess(self, audio, max_length):\n",
    "        inputs = self.f_ex(audio, sampling_rate=self.target_sr, max_length=int(max_length*self.target_sr), return_tensors=\"pt\", truncation=True, padding='max_length')\n",
    "        return inputs[\"input_values\"].squeeze(0)\n",
    "\n",
    "    def speech_augmentation(self, audio, sr):\n",
    "      # Define probabilities for each augmentation\n",
    "      pitch_prob = 0.4  # 40% chance of pitch shifting\n",
    "      volume_prob = 0.5  # 50% chance of volume perturbation\n",
    "\n",
    "      if random.random() < pitch_prob:\n",
    "        audio = self.pitch_shift(audio, sr)\n",
    "      if random.random() < volume_prob:\n",
    "        audio = self.volume_perturb(audio)\n",
    "      return audio\n",
    "\n",
    "\n",
    "    def pitch_shift(self, audio, sr, semitones=random.uniform(-2, 2)):\n",
    "      return effects.pitch_shift(audio, sr=sr, n_steps=semitones)\n",
    "\n",
    "    def volume_perturb(self, audio, gain_dB=random.uniform(-3, 3)):\n",
    "      return effects.preemphasis(audio, coef=gain_dB)\n"
   ]
  },
  {
   "cell_type": "code",
   "execution_count": 78,
   "metadata": {},
   "outputs": [],
   "source": [
    "class AlzheimersModel(nn.Module):\n",
    "    def __init__(self):\n",
    "        super().__init__()\n",
    "        \n",
    "        self.model = transformers.AutoModelForAudioClassification.from_pretrained(config.MODEL, num_labels=2)\n",
    "        \n",
    "    def forward(self, x):\n",
    "        out = self.model(x).logits\n",
    "        return out"
   ]
  },
  {
   "cell_type": "code",
   "execution_count": 79,
   "metadata": {},
   "outputs": [],
   "source": [
    "def train_epoch(train_loader, model, optimizer, epoch, scheduler):\n",
    "    model.train()\n",
    "    losses = AverageMeter()\n",
    "    loss_fn = nn.CrossEntropyLoss()\n",
    "    \n",
    "    with tqdm(train_loader, unit=\"batch\") as tepoch:\n",
    "        for idx, (features, labels) in enumerate(tepoch):\n",
    "            features = np.array(features)\n",
    "            features = torch.from_numpy(features).to(device)\n",
    "            labels = labels.to(device)\n",
    "            batch_size = features.size(0)\n",
    "\n",
    "            optimizer.zero_grad()\n",
    "            \n",
    "            outputs = model(features)\n",
    "            loss = loss_fn(outputs, labels)\n",
    "\n",
    "            loss.backward()\n",
    "            optimizer.step()\n",
    "            optimizer.zero_grad()\n",
    "\n",
    "            scheduler.step()\n",
    "            losses.update(loss.item(), batch_size)\n",
    "\n",
    "    print(f'Train loss: {losses.avg:.4f}')\n",
    "    return losses.avg\n",
    "\n",
    "\n",
    "def evaluate(model, valid_loader):\n",
    "    model.eval()\n",
    "    losses = AverageMeter()\n",
    "    acc = AverageMeter()\n",
    "    loss_fn = nn.CrossEntropyLoss()\n",
    "    auc = torchmetrics.AUROC(task=\"binary\")  # Create the AUC metric\n",
    "\n",
    "\n",
    "    with torch.no_grad():\n",
    "        all_probs = torch.tensor([]).to(device)\n",
    "        all_labels = torch.tensor([]).to(device)\n",
    "        for idx, (features, labels) in enumerate(valid_loader):\n",
    "            features = np.array(features)\n",
    "            features = torch.from_numpy(features).to(device)            \n",
    "            labels = labels.to(device)\n",
    "            batch_size = features.size(0)\n",
    "\n",
    "            outputs = model(features)\n",
    "            pred = torch.argmax(outputs, 1)\n",
    "            loss = loss_fn(outputs, labels)\n",
    "            losses.update(loss.item(), batch_size)\n",
    "\n",
    "            # Get probabilities for the positive class (Alzheimer's)\n",
    "            probs = (torch.softmax(outputs, dim=1)[:, 1])\n",
    "            all_probs = torch.cat((all_probs, probs), dim=0)\n",
    "            all_labels = torch.cat((all_labels, labels), dim=0)\n",
    "\n",
    "            auc.update(probs, labels) \n",
    "\n",
    "            accuracy = torchmetrics.functional.accuracy(pred, labels, 'binary')\n",
    "            acc.update(accuracy.item(), batch_size)\n",
    "\n",
    "    roc_auc = auc.compute()\n",
    "    print(f'Valid loss: {losses.avg:.4f} | Valid accuracy: {acc.avg:.4f} | AUC-ROC: {roc_auc:.4f}')\n",
    "    return losses.avg, acc.avg, roc_auc, all_probs.cpu().numpy(), all_labels.cpu().numpy()"
   ]
  },
  {
   "cell_type": "code",
   "execution_count": 80,
   "metadata": {},
   "outputs": [
    {
     "name": "stderr",
     "output_type": "stream",
     "text": [
      "Some weights of HubertForSequenceClassification were not initialized from the model checkpoint at facebook/hubert-base-ls960 and are newly initialized: ['classifier.bias', 'classifier.weight', 'encoder.pos_conv_embed.conv.parametrizations.weight.original0', 'encoder.pos_conv_embed.conv.parametrizations.weight.original1', 'projector.bias', 'projector.weight']\n",
      "You should probably TRAIN this model on a down-stream task to be able to use it for predictions and inference.\n"
     ]
    },
    {
     "name": "stdout",
     "output_type": "stream",
     "text": [
      "Epoch 0\n"
     ]
    },
    {
     "name": "stderr",
     "output_type": "stream",
     "text": [
      "100%|██████████| 22/22 [00:20<00:00,  1.08batch/s]\n"
     ]
    },
    {
     "name": "stdout",
     "output_type": "stream",
     "text": [
      "Train loss: 0.6938\n",
      "Valid loss: 0.6910 | Valid accuracy: 0.5909 | AUC-ROC: 0.5000\n",
      "Accuracy: 0.5909\n",
      "Epoch 1\n"
     ]
    },
    {
     "name": "stderr",
     "output_type": "stream",
     "text": [
      "100%|██████████| 22/22 [00:19<00:00,  1.11batch/s]\n"
     ]
    },
    {
     "name": "stdout",
     "output_type": "stream",
     "text": [
      "Train loss: 0.6903\n",
      "Valid loss: 0.6870 | Valid accuracy: 0.5455 | AUC-ROC: 0.5667\n",
      "Accuracy: 0.5455\n",
      "Epoch 2\n"
     ]
    },
    {
     "name": "stderr",
     "output_type": "stream",
     "text": [
      "100%|██████████| 22/22 [00:19<00:00,  1.11batch/s]\n"
     ]
    },
    {
     "name": "stdout",
     "output_type": "stream",
     "text": [
      "Train loss: 0.6896\n",
      "Valid loss: 0.6853 | Valid accuracy: 0.5909 | AUC-ROC: 0.5500\n",
      "Accuracy: 0.5909\n",
      "Epoch 3\n"
     ]
    },
    {
     "name": "stderr",
     "output_type": "stream",
     "text": [
      "100%|██████████| 22/22 [00:20<00:00,  1.10batch/s]\n"
     ]
    },
    {
     "name": "stdout",
     "output_type": "stream",
     "text": [
      "Train loss: 0.6894\n",
      "Valid loss: 0.6852 | Valid accuracy: 0.5000 | AUC-ROC: 0.5750\n",
      "Accuracy: 0.5000\n",
      "Epoch 4\n"
     ]
    },
    {
     "name": "stderr",
     "output_type": "stream",
     "text": [
      "100%|██████████| 22/22 [00:20<00:00,  1.06batch/s]\n"
     ]
    },
    {
     "name": "stdout",
     "output_type": "stream",
     "text": [
      "Train loss: 0.6788\n",
      "Valid loss: 0.6838 | Valid accuracy: 0.6364 | AUC-ROC: 0.6250\n",
      "Accuracy: 0.6364\n",
      "Epoch 5\n"
     ]
    },
    {
     "name": "stderr",
     "output_type": "stream",
     "text": [
      "100%|██████████| 22/22 [00:20<00:00,  1.06batch/s]\n"
     ]
    },
    {
     "name": "stdout",
     "output_type": "stream",
     "text": [
      "Train loss: 0.6669\n",
      "Valid loss: 0.6700 | Valid accuracy: 0.5909 | AUC-ROC: 0.6500\n",
      "Accuracy: 0.5909\n",
      "Epoch 6\n"
     ]
    },
    {
     "name": "stderr",
     "output_type": "stream",
     "text": [
      "100%|██████████| 22/22 [00:20<00:00,  1.09batch/s]\n"
     ]
    },
    {
     "name": "stdout",
     "output_type": "stream",
     "text": [
      "Train loss: 0.6584\n",
      "Valid loss: 0.6647 | Valid accuracy: 0.6818 | AUC-ROC: 0.6500\n",
      "Accuracy: 0.6818\n",
      "Epoch 7\n"
     ]
    },
    {
     "name": "stderr",
     "output_type": "stream",
     "text": [
      "100%|██████████| 22/22 [00:20<00:00,  1.08batch/s]\n"
     ]
    },
    {
     "name": "stdout",
     "output_type": "stream",
     "text": [
      "Train loss: 0.6312\n",
      "Valid loss: 0.6806 | Valid accuracy: 0.5909 | AUC-ROC: 0.6500\n",
      "Accuracy: 0.5909\n",
      "Epoch 8\n"
     ]
    },
    {
     "name": "stderr",
     "output_type": "stream",
     "text": [
      "100%|██████████| 22/22 [00:20<00:00,  1.09batch/s]\n"
     ]
    },
    {
     "name": "stdout",
     "output_type": "stream",
     "text": [
      "Train loss: 0.5978\n",
      "Valid loss: 0.5919 | Valid accuracy: 0.7273 | AUC-ROC: 0.7250\n",
      "Accuracy: 0.7273\n",
      "Epoch 9\n"
     ]
    },
    {
     "name": "stderr",
     "output_type": "stream",
     "text": [
      "100%|██████████| 22/22 [00:20<00:00,  1.07batch/s]\n"
     ]
    },
    {
     "name": "stdout",
     "output_type": "stream",
     "text": [
      "Train loss: 0.5583\n",
      "Valid loss: 0.6209 | Valid accuracy: 0.6364 | AUC-ROC: 0.6917\n",
      "Accuracy: 0.6364\n",
      "Epoch 10\n"
     ]
    },
    {
     "name": "stderr",
     "output_type": "stream",
     "text": [
      "100%|██████████| 22/22 [00:20<00:00,  1.08batch/s]\n"
     ]
    },
    {
     "name": "stdout",
     "output_type": "stream",
     "text": [
      "Train loss: 0.5374\n",
      "Valid loss: 0.5983 | Valid accuracy: 0.7727 | AUC-ROC: 0.7333\n",
      "Accuracy: 0.7727\n",
      "Epoch 11\n"
     ]
    },
    {
     "name": "stderr",
     "output_type": "stream",
     "text": [
      "100%|██████████| 22/22 [00:20<00:00,  1.07batch/s]\n"
     ]
    },
    {
     "name": "stdout",
     "output_type": "stream",
     "text": [
      "Train loss: 0.5095\n",
      "Valid loss: 0.5723 | Valid accuracy: 0.7727 | AUC-ROC: 0.7833\n",
      "Accuracy: 0.7727\n",
      "Epoch 12\n"
     ]
    },
    {
     "name": "stderr",
     "output_type": "stream",
     "text": [
      "100%|██████████| 22/22 [00:20<00:00,  1.09batch/s]\n"
     ]
    },
    {
     "name": "stdout",
     "output_type": "stream",
     "text": [
      "Train loss: 0.4086\n",
      "Valid loss: 0.5768 | Valid accuracy: 0.6818 | AUC-ROC: 0.7667\n",
      "Accuracy: 0.6818\n",
      "Epoch 13\n"
     ]
    },
    {
     "name": "stderr",
     "output_type": "stream",
     "text": [
      "100%|██████████| 22/22 [00:20<00:00,  1.09batch/s]\n"
     ]
    },
    {
     "name": "stdout",
     "output_type": "stream",
     "text": [
      "Train loss: 0.3270\n",
      "Valid loss: 0.6078 | Valid accuracy: 0.6818 | AUC-ROC: 0.8167\n",
      "Accuracy: 0.6818\n",
      "Epoch 14\n"
     ]
    },
    {
     "name": "stderr",
     "output_type": "stream",
     "text": [
      "100%|██████████| 22/22 [00:19<00:00,  1.11batch/s]\n"
     ]
    },
    {
     "name": "stdout",
     "output_type": "stream",
     "text": [
      "Train loss: 0.3469\n",
      "Valid loss: 0.6600 | Valid accuracy: 0.6364 | AUC-ROC: 0.7750\n",
      "Accuracy: 0.6364\n",
      "Epoch 15\n"
     ]
    },
    {
     "name": "stderr",
     "output_type": "stream",
     "text": [
      "100%|██████████| 22/22 [00:20<00:00,  1.09batch/s]\n"
     ]
    },
    {
     "name": "stdout",
     "output_type": "stream",
     "text": [
      "Train loss: 0.3499\n",
      "Valid loss: 0.5391 | Valid accuracy: 0.7727 | AUC-ROC: 0.8417\n",
      "Accuracy: 0.7727\n",
      "Epoch 16\n"
     ]
    },
    {
     "name": "stderr",
     "output_type": "stream",
     "text": [
      "100%|██████████| 22/22 [00:20<00:00,  1.10batch/s]\n"
     ]
    },
    {
     "name": "stdout",
     "output_type": "stream",
     "text": [
      "Train loss: 0.2932\n",
      "Valid loss: 0.6010 | Valid accuracy: 0.6364 | AUC-ROC: 0.8167\n",
      "Accuracy: 0.6364\n",
      "Epoch 17\n"
     ]
    },
    {
     "name": "stderr",
     "output_type": "stream",
     "text": [
      "100%|██████████| 22/22 [00:20<00:00,  1.06batch/s]\n"
     ]
    },
    {
     "name": "stdout",
     "output_type": "stream",
     "text": [
      "Train loss: 0.2292\n",
      "Valid loss: 0.6185 | Valid accuracy: 0.6818 | AUC-ROC: 0.8083\n",
      "Accuracy: 0.6818\n",
      "Epoch 18\n"
     ]
    },
    {
     "name": "stderr",
     "output_type": "stream",
     "text": [
      "100%|██████████| 22/22 [00:20<00:00,  1.06batch/s]\n"
     ]
    },
    {
     "name": "stdout",
     "output_type": "stream",
     "text": [
      "Train loss: 0.2620\n",
      "Valid loss: 0.6042 | Valid accuracy: 0.6818 | AUC-ROC: 0.8333\n",
      "Accuracy: 0.6818\n",
      "Epoch 19\n"
     ]
    },
    {
     "name": "stderr",
     "output_type": "stream",
     "text": [
      "100%|██████████| 22/22 [00:20<00:00,  1.10batch/s]\n"
     ]
    },
    {
     "name": "stdout",
     "output_type": "stream",
     "text": [
      "Train loss: 0.2835\n",
      "Valid loss: 0.5981 | Valid accuracy: 0.6818 | AUC-ROC: 0.8333\n",
      "Accuracy: 0.6818\n"
     ]
    },
    {
     "name": "stderr",
     "output_type": "stream",
     "text": [
      "Some weights of HubertForSequenceClassification were not initialized from the model checkpoint at facebook/hubert-base-ls960 and are newly initialized: ['classifier.bias', 'classifier.weight', 'encoder.pos_conv_embed.conv.parametrizations.weight.original0', 'encoder.pos_conv_embed.conv.parametrizations.weight.original1', 'projector.bias', 'projector.weight']\n",
      "You should probably TRAIN this model on a down-stream task to be able to use it for predictions and inference.\n"
     ]
    },
    {
     "name": "stdout",
     "output_type": "stream",
     "text": [
      "Epoch 0\n"
     ]
    },
    {
     "name": "stderr",
     "output_type": "stream",
     "text": [
      "100%|██████████| 22/22 [00:20<00:00,  1.08batch/s]\n"
     ]
    },
    {
     "name": "stdout",
     "output_type": "stream",
     "text": [
      "Train loss: 0.6934\n",
      "Valid loss: 0.6914 | Valid accuracy: 0.5000 | AUC-ROC: 0.7025\n",
      "Accuracy: 0.5000\n",
      "Epoch 1\n"
     ]
    },
    {
     "name": "stderr",
     "output_type": "stream",
     "text": [
      "100%|██████████| 22/22 [00:20<00:00,  1.08batch/s]\n"
     ]
    },
    {
     "name": "stdout",
     "output_type": "stream",
     "text": [
      "Train loss: 0.6890\n",
      "Valid loss: 0.6929 | Valid accuracy: 0.5909 | AUC-ROC: 0.6198\n",
      "Accuracy: 0.5909\n",
      "Epoch 2\n"
     ]
    },
    {
     "name": "stderr",
     "output_type": "stream",
     "text": [
      "100%|██████████| 22/22 [00:20<00:00,  1.07batch/s]\n"
     ]
    },
    {
     "name": "stdout",
     "output_type": "stream",
     "text": [
      "Train loss: 0.6868\n",
      "Valid loss: 0.6920 | Valid accuracy: 0.5000 | AUC-ROC: 0.5620\n",
      "Accuracy: 0.5000\n",
      "Epoch 3\n"
     ]
    },
    {
     "name": "stderr",
     "output_type": "stream",
     "text": [
      "100%|██████████| 22/22 [00:20<00:00,  1.08batch/s]\n"
     ]
    },
    {
     "name": "stdout",
     "output_type": "stream",
     "text": [
      "Train loss: 0.6810\n",
      "Valid loss: 0.6859 | Valid accuracy: 0.5000 | AUC-ROC: 0.6529\n",
      "Accuracy: 0.5000\n",
      "Epoch 4\n"
     ]
    },
    {
     "name": "stderr",
     "output_type": "stream",
     "text": [
      "100%|██████████| 22/22 [00:19<00:00,  1.11batch/s]\n"
     ]
    },
    {
     "name": "stdout",
     "output_type": "stream",
     "text": [
      "Train loss: 0.6746\n",
      "Valid loss: 0.7068 | Valid accuracy: 0.5000 | AUC-ROC: 0.5537\n",
      "Accuracy: 0.5000\n",
      "Epoch 5\n"
     ]
    },
    {
     "name": "stderr",
     "output_type": "stream",
     "text": [
      "100%|██████████| 22/22 [00:20<00:00,  1.09batch/s]\n"
     ]
    },
    {
     "name": "stdout",
     "output_type": "stream",
     "text": [
      "Train loss: 0.6460\n",
      "Valid loss: 0.7149 | Valid accuracy: 0.5000 | AUC-ROC: 0.4215\n",
      "Accuracy: 0.5000\n",
      "Epoch 6\n"
     ]
    },
    {
     "name": "stderr",
     "output_type": "stream",
     "text": [
      "100%|██████████| 22/22 [00:20<00:00,  1.09batch/s]\n"
     ]
    },
    {
     "name": "stdout",
     "output_type": "stream",
     "text": [
      "Train loss: 0.6240\n",
      "Valid loss: 0.7117 | Valid accuracy: 0.5000 | AUC-ROC: 0.4711\n",
      "Accuracy: 0.5000\n",
      "Epoch 7\n"
     ]
    },
    {
     "name": "stderr",
     "output_type": "stream",
     "text": [
      "100%|██████████| 22/22 [00:20<00:00,  1.08batch/s]\n"
     ]
    },
    {
     "name": "stdout",
     "output_type": "stream",
     "text": [
      "Train loss: 0.5601\n",
      "Valid loss: 0.7558 | Valid accuracy: 0.5000 | AUC-ROC: 0.4793\n",
      "Accuracy: 0.5000\n",
      "Epoch 8\n"
     ]
    },
    {
     "name": "stderr",
     "output_type": "stream",
     "text": [
      "100%|██████████| 22/22 [00:20<00:00,  1.07batch/s]\n"
     ]
    },
    {
     "name": "stdout",
     "output_type": "stream",
     "text": [
      "Train loss: 0.5260\n",
      "Valid loss: 0.7176 | Valid accuracy: 0.5909 | AUC-ROC: 0.6116\n",
      "Accuracy: 0.5909\n",
      "Epoch 9\n"
     ]
    },
    {
     "name": "stderr",
     "output_type": "stream",
     "text": [
      "100%|██████████| 22/22 [00:20<00:00,  1.05batch/s]\n"
     ]
    },
    {
     "name": "stdout",
     "output_type": "stream",
     "text": [
      "Train loss: 0.5116\n",
      "Valid loss: 0.8404 | Valid accuracy: 0.5455 | AUC-ROC: 0.5372\n",
      "Accuracy: 0.5455\n",
      "Epoch 10\n"
     ]
    },
    {
     "name": "stderr",
     "output_type": "stream",
     "text": [
      "100%|██████████| 22/22 [00:20<00:00,  1.08batch/s]\n"
     ]
    },
    {
     "name": "stdout",
     "output_type": "stream",
     "text": [
      "Train loss: 0.4928\n",
      "Valid loss: 0.7404 | Valid accuracy: 0.6364 | AUC-ROC: 0.5868\n",
      "Accuracy: 0.6364\n",
      "Epoch 11\n"
     ]
    },
    {
     "name": "stderr",
     "output_type": "stream",
     "text": [
      "100%|██████████| 22/22 [00:20<00:00,  1.07batch/s]\n"
     ]
    },
    {
     "name": "stdout",
     "output_type": "stream",
     "text": [
      "Train loss: 0.3798\n",
      "Valid loss: 0.7031 | Valid accuracy: 0.7273 | AUC-ROC: 0.6529\n",
      "Accuracy: 0.7273\n",
      "Epoch 12\n"
     ]
    },
    {
     "name": "stderr",
     "output_type": "stream",
     "text": [
      "100%|██████████| 22/22 [00:19<00:00,  1.10batch/s]\n"
     ]
    },
    {
     "name": "stdout",
     "output_type": "stream",
     "text": [
      "Train loss: 0.4018\n",
      "Valid loss: 0.7644 | Valid accuracy: 0.6364 | AUC-ROC: 0.6198\n",
      "Accuracy: 0.6364\n",
      "Epoch 13\n"
     ]
    },
    {
     "name": "stderr",
     "output_type": "stream",
     "text": [
      "100%|██████████| 22/22 [00:19<00:00,  1.10batch/s]\n"
     ]
    },
    {
     "name": "stdout",
     "output_type": "stream",
     "text": [
      "Train loss: 0.3755\n",
      "Valid loss: 0.7169 | Valid accuracy: 0.6364 | AUC-ROC: 0.6860\n",
      "Accuracy: 0.6364\n",
      "Epoch 14\n"
     ]
    },
    {
     "name": "stderr",
     "output_type": "stream",
     "text": [
      "100%|██████████| 22/22 [00:20<00:00,  1.08batch/s]\n"
     ]
    },
    {
     "name": "stdout",
     "output_type": "stream",
     "text": [
      "Train loss: 0.2572\n",
      "Valid loss: 0.7161 | Valid accuracy: 0.6364 | AUC-ROC: 0.6942\n",
      "Accuracy: 0.6364\n",
      "Epoch 15\n"
     ]
    },
    {
     "name": "stderr",
     "output_type": "stream",
     "text": [
      "100%|██████████| 22/22 [00:20<00:00,  1.08batch/s]\n"
     ]
    },
    {
     "name": "stdout",
     "output_type": "stream",
     "text": [
      "Train loss: 0.2856\n",
      "Valid loss: 0.7948 | Valid accuracy: 0.6364 | AUC-ROC: 0.6942\n",
      "Accuracy: 0.6364\n",
      "Epoch 16\n"
     ]
    },
    {
     "name": "stderr",
     "output_type": "stream",
     "text": [
      "100%|██████████| 22/22 [00:20<00:00,  1.09batch/s]\n"
     ]
    },
    {
     "name": "stdout",
     "output_type": "stream",
     "text": [
      "Train loss: 0.2605\n",
      "Valid loss: 0.7970 | Valid accuracy: 0.6364 | AUC-ROC: 0.7025\n",
      "Accuracy: 0.6364\n",
      "Epoch 17\n"
     ]
    },
    {
     "name": "stderr",
     "output_type": "stream",
     "text": [
      "100%|██████████| 22/22 [00:20<00:00,  1.09batch/s]\n"
     ]
    },
    {
     "name": "stdout",
     "output_type": "stream",
     "text": [
      "Train loss: 0.2377\n",
      "Valid loss: 0.7970 | Valid accuracy: 0.6364 | AUC-ROC: 0.6942\n",
      "Accuracy: 0.6364\n",
      "Epoch 18\n"
     ]
    },
    {
     "name": "stderr",
     "output_type": "stream",
     "text": [
      "100%|██████████| 22/22 [00:20<00:00,  1.10batch/s]\n"
     ]
    },
    {
     "name": "stdout",
     "output_type": "stream",
     "text": [
      "Train loss: 0.3199\n",
      "Valid loss: 0.7991 | Valid accuracy: 0.6364 | AUC-ROC: 0.6860\n",
      "Accuracy: 0.6364\n",
      "Epoch 19\n"
     ]
    },
    {
     "name": "stderr",
     "output_type": "stream",
     "text": [
      "100%|██████████| 22/22 [00:20<00:00,  1.09batch/s]\n"
     ]
    },
    {
     "name": "stdout",
     "output_type": "stream",
     "text": [
      "Train loss: 0.2421\n",
      "Valid loss: 0.7995 | Valid accuracy: 0.6364 | AUC-ROC: 0.6860\n",
      "Accuracy: 0.6364\n"
     ]
    },
    {
     "name": "stderr",
     "output_type": "stream",
     "text": [
      "Some weights of HubertForSequenceClassification were not initialized from the model checkpoint at facebook/hubert-base-ls960 and are newly initialized: ['classifier.bias', 'classifier.weight', 'encoder.pos_conv_embed.conv.parametrizations.weight.original0', 'encoder.pos_conv_embed.conv.parametrizations.weight.original1', 'projector.bias', 'projector.weight']\n",
      "You should probably TRAIN this model on a down-stream task to be able to use it for predictions and inference.\n"
     ]
    },
    {
     "name": "stdout",
     "output_type": "stream",
     "text": [
      "Epoch 0\n"
     ]
    },
    {
     "name": "stderr",
     "output_type": "stream",
     "text": [
      "100%|██████████| 22/22 [00:20<00:00,  1.07batch/s]\n"
     ]
    },
    {
     "name": "stdout",
     "output_type": "stream",
     "text": [
      "Train loss: 0.6926\n",
      "Valid loss: 0.6883 | Valid accuracy: 0.4545 | AUC-ROC: 0.7167\n",
      "Accuracy: 0.4545\n",
      "Epoch 1\n"
     ]
    },
    {
     "name": "stderr",
     "output_type": "stream",
     "text": [
      "100%|██████████| 22/22 [00:20<00:00,  1.07batch/s]\n"
     ]
    },
    {
     "name": "stdout",
     "output_type": "stream",
     "text": [
      "Train loss: 0.6927\n",
      "Valid loss: 0.6886 | Valid accuracy: 0.6364 | AUC-ROC: 0.7667\n",
      "Accuracy: 0.6364\n",
      "Epoch 2\n"
     ]
    },
    {
     "name": "stderr",
     "output_type": "stream",
     "text": [
      "100%|██████████| 22/22 [00:20<00:00,  1.06batch/s]\n"
     ]
    },
    {
     "name": "stdout",
     "output_type": "stream",
     "text": [
      "Train loss: 0.6909\n",
      "Valid loss: 0.6870 | Valid accuracy: 0.5455 | AUC-ROC: 0.6917\n",
      "Accuracy: 0.5455\n",
      "Epoch 3\n"
     ]
    },
    {
     "name": "stderr",
     "output_type": "stream",
     "text": [
      "100%|██████████| 22/22 [00:20<00:00,  1.07batch/s]\n"
     ]
    },
    {
     "name": "stdout",
     "output_type": "stream",
     "text": [
      "Train loss: 0.6869\n",
      "Valid loss: 0.6784 | Valid accuracy: 0.6364 | AUC-ROC: 0.7750\n",
      "Accuracy: 0.6364\n",
      "Epoch 4\n"
     ]
    },
    {
     "name": "stderr",
     "output_type": "stream",
     "text": [
      "100%|██████████| 22/22 [00:20<00:00,  1.08batch/s]\n"
     ]
    },
    {
     "name": "stdout",
     "output_type": "stream",
     "text": [
      "Train loss: 0.6831\n",
      "Valid loss: 0.6770 | Valid accuracy: 0.5000 | AUC-ROC: 0.7833\n",
      "Accuracy: 0.5000\n",
      "Epoch 5\n"
     ]
    },
    {
     "name": "stderr",
     "output_type": "stream",
     "text": [
      "100%|██████████| 22/22 [00:20<00:00,  1.08batch/s]\n"
     ]
    },
    {
     "name": "stdout",
     "output_type": "stream",
     "text": [
      "Train loss: 0.6774\n",
      "Valid loss: 0.6679 | Valid accuracy: 0.6364 | AUC-ROC: 0.7917\n",
      "Accuracy: 0.6364\n",
      "Epoch 6\n"
     ]
    },
    {
     "name": "stderr",
     "output_type": "stream",
     "text": [
      "100%|██████████| 22/22 [00:20<00:00,  1.05batch/s]\n"
     ]
    },
    {
     "name": "stdout",
     "output_type": "stream",
     "text": [
      "Train loss: 0.6581\n",
      "Valid loss: 0.6742 | Valid accuracy: 0.6818 | AUC-ROC: 0.7917\n",
      "Accuracy: 0.6818\n",
      "Epoch 7\n"
     ]
    },
    {
     "name": "stderr",
     "output_type": "stream",
     "text": [
      "100%|██████████| 22/22 [00:20<00:00,  1.09batch/s]\n"
     ]
    },
    {
     "name": "stdout",
     "output_type": "stream",
     "text": [
      "Train loss: 0.6478\n",
      "Valid loss: 0.6273 | Valid accuracy: 0.6364 | AUC-ROC: 0.8333\n",
      "Accuracy: 0.6364\n",
      "Epoch 8\n"
     ]
    },
    {
     "name": "stderr",
     "output_type": "stream",
     "text": [
      "100%|██████████| 22/22 [00:20<00:00,  1.08batch/s]\n"
     ]
    },
    {
     "name": "stdout",
     "output_type": "stream",
     "text": [
      "Train loss: 0.6102\n",
      "Valid loss: 0.5867 | Valid accuracy: 0.7727 | AUC-ROC: 0.8917\n",
      "Accuracy: 0.7727\n",
      "Epoch 9\n"
     ]
    },
    {
     "name": "stderr",
     "output_type": "stream",
     "text": [
      "100%|██████████| 22/22 [00:20<00:00,  1.07batch/s]\n"
     ]
    },
    {
     "name": "stdout",
     "output_type": "stream",
     "text": [
      "Train loss: 0.5490\n",
      "Valid loss: 0.5249 | Valid accuracy: 0.7727 | AUC-ROC: 0.9083\n",
      "Accuracy: 0.7727\n",
      "Epoch 10\n"
     ]
    },
    {
     "name": "stderr",
     "output_type": "stream",
     "text": [
      "100%|██████████| 22/22 [00:20<00:00,  1.07batch/s]\n"
     ]
    },
    {
     "name": "stdout",
     "output_type": "stream",
     "text": [
      "Train loss: 0.5146\n",
      "Valid loss: 0.6030 | Valid accuracy: 0.7273 | AUC-ROC: 0.8500\n",
      "Accuracy: 0.7273\n",
      "Epoch 11\n"
     ]
    },
    {
     "name": "stderr",
     "output_type": "stream",
     "text": [
      "100%|██████████| 22/22 [00:20<00:00,  1.09batch/s]\n"
     ]
    },
    {
     "name": "stdout",
     "output_type": "stream",
     "text": [
      "Train loss: 0.4213\n",
      "Valid loss: 0.4478 | Valid accuracy: 0.8182 | AUC-ROC: 0.9333\n",
      "Accuracy: 0.8182\n",
      "Epoch 12\n"
     ]
    },
    {
     "name": "stderr",
     "output_type": "stream",
     "text": [
      "100%|██████████| 22/22 [00:20<00:00,  1.09batch/s]\n"
     ]
    },
    {
     "name": "stdout",
     "output_type": "stream",
     "text": [
      "Train loss: 0.4999\n",
      "Valid loss: 0.5575 | Valid accuracy: 0.7727 | AUC-ROC: 0.8750\n",
      "Accuracy: 0.7727\n",
      "Epoch 13\n"
     ]
    },
    {
     "name": "stderr",
     "output_type": "stream",
     "text": [
      "100%|██████████| 22/22 [00:20<00:00,  1.09batch/s]\n"
     ]
    },
    {
     "name": "stdout",
     "output_type": "stream",
     "text": [
      "Train loss: 0.4327\n",
      "Valid loss: 0.3672 | Valid accuracy: 0.8636 | AUC-ROC: 0.9500\n",
      "Accuracy: 0.8636\n",
      "Epoch 14\n"
     ]
    },
    {
     "name": "stderr",
     "output_type": "stream",
     "text": [
      "100%|██████████| 22/22 [00:20<00:00,  1.08batch/s]\n"
     ]
    },
    {
     "name": "stdout",
     "output_type": "stream",
     "text": [
      "Train loss: 0.3528\n",
      "Valid loss: 0.4195 | Valid accuracy: 0.8182 | AUC-ROC: 0.9333\n",
      "Accuracy: 0.8182\n",
      "Epoch 15\n"
     ]
    },
    {
     "name": "stderr",
     "output_type": "stream",
     "text": [
      "100%|██████████| 22/22 [00:20<00:00,  1.07batch/s]\n"
     ]
    },
    {
     "name": "stdout",
     "output_type": "stream",
     "text": [
      "Train loss: 0.2970\n",
      "Valid loss: 0.4813 | Valid accuracy: 0.7727 | AUC-ROC: 0.9250\n",
      "Accuracy: 0.7727\n",
      "Epoch 16\n"
     ]
    },
    {
     "name": "stderr",
     "output_type": "stream",
     "text": [
      "100%|██████████| 22/22 [00:20<00:00,  1.09batch/s]\n"
     ]
    },
    {
     "name": "stdout",
     "output_type": "stream",
     "text": [
      "Train loss: 0.2889\n",
      "Valid loss: 0.4428 | Valid accuracy: 0.8182 | AUC-ROC: 0.9250\n",
      "Accuracy: 0.8182\n",
      "Epoch 17\n"
     ]
    },
    {
     "name": "stderr",
     "output_type": "stream",
     "text": [
      "100%|██████████| 22/22 [00:20<00:00,  1.08batch/s]\n"
     ]
    },
    {
     "name": "stdout",
     "output_type": "stream",
     "text": [
      "Train loss: 0.2649\n",
      "Valid loss: 0.4381 | Valid accuracy: 0.8182 | AUC-ROC: 0.9250\n",
      "Accuracy: 0.8182\n",
      "Epoch 18\n"
     ]
    },
    {
     "name": "stderr",
     "output_type": "stream",
     "text": [
      "100%|██████████| 22/22 [00:20<00:00,  1.07batch/s]\n"
     ]
    },
    {
     "name": "stdout",
     "output_type": "stream",
     "text": [
      "Train loss: 0.2636\n",
      "Valid loss: 0.4410 | Valid accuracy: 0.8182 | AUC-ROC: 0.9250\n",
      "Accuracy: 0.8182\n",
      "Epoch 19\n"
     ]
    },
    {
     "name": "stderr",
     "output_type": "stream",
     "text": [
      "100%|██████████| 22/22 [00:20<00:00,  1.06batch/s]\n"
     ]
    },
    {
     "name": "stdout",
     "output_type": "stream",
     "text": [
      "Train loss: 0.2520\n",
      "Valid loss: 0.4405 | Valid accuracy: 0.8182 | AUC-ROC: 0.9250\n",
      "Accuracy: 0.8182\n"
     ]
    },
    {
     "name": "stderr",
     "output_type": "stream",
     "text": [
      "Some weights of HubertForSequenceClassification were not initialized from the model checkpoint at facebook/hubert-base-ls960 and are newly initialized: ['classifier.bias', 'classifier.weight', 'encoder.pos_conv_embed.conv.parametrizations.weight.original0', 'encoder.pos_conv_embed.conv.parametrizations.weight.original1', 'projector.bias', 'projector.weight']\n",
      "You should probably TRAIN this model on a down-stream task to be able to use it for predictions and inference.\n"
     ]
    },
    {
     "name": "stdout",
     "output_type": "stream",
     "text": [
      "Epoch 0\n"
     ]
    },
    {
     "name": "stderr",
     "output_type": "stream",
     "text": [
      "100%|██████████| 22/22 [00:20<00:00,  1.07batch/s]\n"
     ]
    },
    {
     "name": "stdout",
     "output_type": "stream",
     "text": [
      "Train loss: 0.6947\n",
      "Valid loss: 0.6934 | Valid accuracy: 0.5238 | AUC-ROC: 0.5182\n",
      "Accuracy: 0.5238\n",
      "Epoch 1\n"
     ]
    },
    {
     "name": "stderr",
     "output_type": "stream",
     "text": [
      "100%|██████████| 22/22 [00:20<00:00,  1.07batch/s]\n"
     ]
    },
    {
     "name": "stdout",
     "output_type": "stream",
     "text": [
      "Train loss: 0.6923\n",
      "Valid loss: 0.6914 | Valid accuracy: 0.5238 | AUC-ROC: 0.5455\n",
      "Accuracy: 0.5238\n",
      "Epoch 2\n"
     ]
    },
    {
     "name": "stderr",
     "output_type": "stream",
     "text": [
      "100%|██████████| 22/22 [00:20<00:00,  1.08batch/s]\n"
     ]
    },
    {
     "name": "stdout",
     "output_type": "stream",
     "text": [
      "Train loss: 0.6879\n",
      "Valid loss: 0.6915 | Valid accuracy: 0.4286 | AUC-ROC: 0.5091\n",
      "Accuracy: 0.4286\n",
      "Epoch 3\n"
     ]
    },
    {
     "name": "stderr",
     "output_type": "stream",
     "text": [
      "100%|██████████| 22/22 [00:20<00:00,  1.09batch/s]\n"
     ]
    },
    {
     "name": "stdout",
     "output_type": "stream",
     "text": [
      "Train loss: 0.6832\n",
      "Valid loss: 0.7001 | Valid accuracy: 0.5238 | AUC-ROC: 0.4727\n",
      "Accuracy: 0.5238\n",
      "Epoch 4\n"
     ]
    },
    {
     "name": "stderr",
     "output_type": "stream",
     "text": [
      "100%|██████████| 22/22 [00:20<00:00,  1.07batch/s]\n"
     ]
    },
    {
     "name": "stdout",
     "output_type": "stream",
     "text": [
      "Train loss: 0.6800\n",
      "Valid loss: 0.7043 | Valid accuracy: 0.3333 | AUC-ROC: 0.4182\n",
      "Accuracy: 0.3333\n",
      "Epoch 5\n"
     ]
    },
    {
     "name": "stderr",
     "output_type": "stream",
     "text": [
      "100%|██████████| 22/22 [00:20<00:00,  1.07batch/s]\n"
     ]
    },
    {
     "name": "stdout",
     "output_type": "stream",
     "text": [
      "Train loss: 0.6658\n",
      "Valid loss: 0.7075 | Valid accuracy: 0.3810 | AUC-ROC: 0.3545\n",
      "Accuracy: 0.3810\n",
      "Epoch 6\n"
     ]
    },
    {
     "name": "stderr",
     "output_type": "stream",
     "text": [
      "100%|██████████| 22/22 [00:20<00:00,  1.05batch/s]\n"
     ]
    },
    {
     "name": "stdout",
     "output_type": "stream",
     "text": [
      "Train loss: 0.6617\n",
      "Valid loss: 0.6972 | Valid accuracy: 0.4762 | AUC-ROC: 0.5182\n",
      "Accuracy: 0.4762\n",
      "Epoch 7\n"
     ]
    },
    {
     "name": "stderr",
     "output_type": "stream",
     "text": [
      "100%|██████████| 22/22 [00:19<00:00,  1.10batch/s]\n"
     ]
    },
    {
     "name": "stdout",
     "output_type": "stream",
     "text": [
      "Train loss: 0.6524\n",
      "Valid loss: 0.7015 | Valid accuracy: 0.5238 | AUC-ROC: 0.5727\n",
      "Accuracy: 0.5238\n",
      "Epoch 8\n"
     ]
    },
    {
     "name": "stderr",
     "output_type": "stream",
     "text": [
      "100%|██████████| 22/22 [00:20<00:00,  1.09batch/s]\n"
     ]
    },
    {
     "name": "stdout",
     "output_type": "stream",
     "text": [
      "Train loss: 0.6662\n",
      "Valid loss: 0.7046 | Valid accuracy: 0.5714 | AUC-ROC: 0.5273\n",
      "Accuracy: 0.5714\n",
      "Epoch 9\n"
     ]
    },
    {
     "name": "stderr",
     "output_type": "stream",
     "text": [
      "100%|██████████| 22/22 [00:20<00:00,  1.08batch/s]\n"
     ]
    },
    {
     "name": "stdout",
     "output_type": "stream",
     "text": [
      "Train loss: 0.6100\n",
      "Valid loss: 0.7198 | Valid accuracy: 0.5714 | AUC-ROC: 0.5545\n",
      "Accuracy: 0.5714\n",
      "Epoch 10\n"
     ]
    },
    {
     "name": "stderr",
     "output_type": "stream",
     "text": [
      "100%|██████████| 22/22 [00:20<00:00,  1.06batch/s]\n"
     ]
    },
    {
     "name": "stdout",
     "output_type": "stream",
     "text": [
      "Train loss: 0.5488\n",
      "Valid loss: 0.7273 | Valid accuracy: 0.6190 | AUC-ROC: 0.5273\n",
      "Accuracy: 0.6190\n",
      "Epoch 11\n"
     ]
    },
    {
     "name": "stderr",
     "output_type": "stream",
     "text": [
      "100%|██████████| 22/22 [00:19<00:00,  1.11batch/s]\n"
     ]
    },
    {
     "name": "stdout",
     "output_type": "stream",
     "text": [
      "Train loss: 0.5675\n",
      "Valid loss: 0.7916 | Valid accuracy: 0.5238 | AUC-ROC: 0.5182\n",
      "Accuracy: 0.5238\n",
      "Epoch 12\n"
     ]
    },
    {
     "name": "stderr",
     "output_type": "stream",
     "text": [
      "100%|██████████| 22/22 [00:20<00:00,  1.08batch/s]\n"
     ]
    },
    {
     "name": "stdout",
     "output_type": "stream",
     "text": [
      "Train loss: 0.5203\n",
      "Valid loss: 0.6758 | Valid accuracy: 0.6667 | AUC-ROC: 0.6636\n",
      "Accuracy: 0.6667\n",
      "Epoch 13\n"
     ]
    },
    {
     "name": "stderr",
     "output_type": "stream",
     "text": [
      "100%|██████████| 22/22 [00:20<00:00,  1.07batch/s]\n"
     ]
    },
    {
     "name": "stdout",
     "output_type": "stream",
     "text": [
      "Train loss: 0.4747\n",
      "Valid loss: 0.7537 | Valid accuracy: 0.5714 | AUC-ROC: 0.5727\n",
      "Accuracy: 0.5714\n",
      "Epoch 14\n"
     ]
    },
    {
     "name": "stderr",
     "output_type": "stream",
     "text": [
      "100%|██████████| 22/22 [00:20<00:00,  1.09batch/s]\n"
     ]
    },
    {
     "name": "stdout",
     "output_type": "stream",
     "text": [
      "Train loss: 0.4260\n",
      "Valid loss: 0.7703 | Valid accuracy: 0.6190 | AUC-ROC: 0.5182\n",
      "Accuracy: 0.6190\n",
      "Epoch 15\n"
     ]
    },
    {
     "name": "stderr",
     "output_type": "stream",
     "text": [
      "100%|██████████| 22/22 [00:20<00:00,  1.07batch/s]\n"
     ]
    },
    {
     "name": "stdout",
     "output_type": "stream",
     "text": [
      "Train loss: 0.4136\n",
      "Valid loss: 0.7955 | Valid accuracy: 0.6190 | AUC-ROC: 0.4909\n",
      "Accuracy: 0.6190\n",
      "Epoch 16\n"
     ]
    },
    {
     "name": "stderr",
     "output_type": "stream",
     "text": [
      "100%|██████████| 22/22 [00:20<00:00,  1.08batch/s]\n"
     ]
    },
    {
     "name": "stdout",
     "output_type": "stream",
     "text": [
      "Train loss: 0.4066\n",
      "Valid loss: 0.7961 | Valid accuracy: 0.5714 | AUC-ROC: 0.5000\n",
      "Accuracy: 0.5714\n",
      "Epoch 17\n"
     ]
    },
    {
     "name": "stderr",
     "output_type": "stream",
     "text": [
      "100%|██████████| 22/22 [00:20<00:00,  1.05batch/s]\n"
     ]
    },
    {
     "name": "stdout",
     "output_type": "stream",
     "text": [
      "Train loss: 0.3316\n",
      "Valid loss: 0.8003 | Valid accuracy: 0.5714 | AUC-ROC: 0.5182\n",
      "Accuracy: 0.5714\n",
      "Epoch 18\n"
     ]
    },
    {
     "name": "stderr",
     "output_type": "stream",
     "text": [
      "100%|██████████| 22/22 [00:20<00:00,  1.06batch/s]\n"
     ]
    },
    {
     "name": "stdout",
     "output_type": "stream",
     "text": [
      "Train loss: 0.3551\n",
      "Valid loss: 0.8028 | Valid accuracy: 0.5714 | AUC-ROC: 0.5000\n",
      "Accuracy: 0.5714\n",
      "Epoch 19\n"
     ]
    },
    {
     "name": "stderr",
     "output_type": "stream",
     "text": [
      "100%|██████████| 22/22 [00:20<00:00,  1.08batch/s]\n"
     ]
    },
    {
     "name": "stdout",
     "output_type": "stream",
     "text": [
      "Train loss: 0.3169\n",
      "Valid loss: 0.8031 | Valid accuracy: 0.5714 | AUC-ROC: 0.5000\n",
      "Accuracy: 0.5714\n"
     ]
    },
    {
     "name": "stderr",
     "output_type": "stream",
     "text": [
      "Some weights of HubertForSequenceClassification were not initialized from the model checkpoint at facebook/hubert-base-ls960 and are newly initialized: ['classifier.bias', 'classifier.weight', 'encoder.pos_conv_embed.conv.parametrizations.weight.original0', 'encoder.pos_conv_embed.conv.parametrizations.weight.original1', 'projector.bias', 'projector.weight']\n",
      "You should probably TRAIN this model on a down-stream task to be able to use it for predictions and inference.\n"
     ]
    },
    {
     "name": "stdout",
     "output_type": "stream",
     "text": [
      "Epoch 0\n"
     ]
    },
    {
     "name": "stderr",
     "output_type": "stream",
     "text": [
      "100%|██████████| 22/22 [00:20<00:00,  1.06batch/s]\n"
     ]
    },
    {
     "name": "stdout",
     "output_type": "stream",
     "text": [
      "Train loss: 0.6936\n",
      "Valid loss: 0.6937 | Valid accuracy: 0.5238 | AUC-ROC: 0.5273\n",
      "Accuracy: 0.5238\n",
      "Epoch 1\n"
     ]
    },
    {
     "name": "stderr",
     "output_type": "stream",
     "text": [
      "100%|██████████| 22/22 [00:20<00:00,  1.05batch/s]\n"
     ]
    },
    {
     "name": "stdout",
     "output_type": "stream",
     "text": [
      "Train loss: 0.6941\n",
      "Valid loss: 0.6900 | Valid accuracy: 0.4286 | AUC-ROC: 0.5545\n",
      "Accuracy: 0.4286\n",
      "Epoch 2\n"
     ]
    },
    {
     "name": "stderr",
     "output_type": "stream",
     "text": [
      "100%|██████████| 22/22 [00:20<00:00,  1.07batch/s]\n"
     ]
    },
    {
     "name": "stdout",
     "output_type": "stream",
     "text": [
      "Train loss: 0.6915\n",
      "Valid loss: 0.6884 | Valid accuracy: 0.4762 | AUC-ROC: 0.6273\n",
      "Accuracy: 0.4762\n",
      "Epoch 3\n"
     ]
    },
    {
     "name": "stderr",
     "output_type": "stream",
     "text": [
      "100%|██████████| 22/22 [00:20<00:00,  1.08batch/s]\n"
     ]
    },
    {
     "name": "stdout",
     "output_type": "stream",
     "text": [
      "Train loss: 0.6833\n",
      "Valid loss: 0.6845 | Valid accuracy: 0.4762 | AUC-ROC: 0.5909\n",
      "Accuracy: 0.4762\n",
      "Epoch 4\n"
     ]
    },
    {
     "name": "stderr",
     "output_type": "stream",
     "text": [
      "100%|██████████| 22/22 [00:20<00:00,  1.07batch/s]\n"
     ]
    },
    {
     "name": "stdout",
     "output_type": "stream",
     "text": [
      "Train loss: 0.6785\n",
      "Valid loss: 0.6888 | Valid accuracy: 0.4762 | AUC-ROC: 0.6364\n",
      "Accuracy: 0.4762\n",
      "Epoch 5\n"
     ]
    },
    {
     "name": "stderr",
     "output_type": "stream",
     "text": [
      "100%|██████████| 22/22 [00:20<00:00,  1.06batch/s]\n"
     ]
    },
    {
     "name": "stdout",
     "output_type": "stream",
     "text": [
      "Train loss: 0.6587\n",
      "Valid loss: 0.6796 | Valid accuracy: 0.5714 | AUC-ROC: 0.7273\n",
      "Accuracy: 0.5714\n",
      "Epoch 6\n"
     ]
    },
    {
     "name": "stderr",
     "output_type": "stream",
     "text": [
      "100%|██████████| 22/22 [00:20<00:00,  1.08batch/s]\n"
     ]
    },
    {
     "name": "stdout",
     "output_type": "stream",
     "text": [
      "Train loss: 0.6614\n",
      "Valid loss: 0.6775 | Valid accuracy: 0.5238 | AUC-ROC: 0.6909\n",
      "Accuracy: 0.5238\n",
      "Epoch 7\n"
     ]
    },
    {
     "name": "stderr",
     "output_type": "stream",
     "text": [
      "100%|██████████| 22/22 [00:20<00:00,  1.06batch/s]\n"
     ]
    },
    {
     "name": "stdout",
     "output_type": "stream",
     "text": [
      "Train loss: 0.6337\n",
      "Valid loss: 0.6792 | Valid accuracy: 0.5238 | AUC-ROC: 0.6455\n",
      "Accuracy: 0.5238\n",
      "Epoch 8\n"
     ]
    },
    {
     "name": "stderr",
     "output_type": "stream",
     "text": [
      "100%|██████████| 22/22 [00:20<00:00,  1.06batch/s]\n"
     ]
    },
    {
     "name": "stdout",
     "output_type": "stream",
     "text": [
      "Train loss: 0.6186\n",
      "Valid loss: 0.6362 | Valid accuracy: 0.6190 | AUC-ROC: 0.7000\n",
      "Accuracy: 0.6190\n",
      "Epoch 9\n"
     ]
    },
    {
     "name": "stderr",
     "output_type": "stream",
     "text": [
      "100%|██████████| 22/22 [00:20<00:00,  1.08batch/s]\n"
     ]
    },
    {
     "name": "stdout",
     "output_type": "stream",
     "text": [
      "Train loss: 0.5675\n",
      "Valid loss: 0.6675 | Valid accuracy: 0.5238 | AUC-ROC: 0.6727\n",
      "Accuracy: 0.5238\n",
      "Epoch 10\n"
     ]
    },
    {
     "name": "stderr",
     "output_type": "stream",
     "text": [
      "100%|██████████| 22/22 [00:19<00:00,  1.11batch/s]\n"
     ]
    },
    {
     "name": "stdout",
     "output_type": "stream",
     "text": [
      "Train loss: 0.5484\n",
      "Valid loss: 0.6220 | Valid accuracy: 0.7143 | AUC-ROC: 0.7182\n",
      "Accuracy: 0.7143\n",
      "Epoch 11\n"
     ]
    },
    {
     "name": "stderr",
     "output_type": "stream",
     "text": [
      "100%|██████████| 22/22 [00:20<00:00,  1.07batch/s]\n"
     ]
    },
    {
     "name": "stdout",
     "output_type": "stream",
     "text": [
      "Train loss: 0.4916\n",
      "Valid loss: 0.6716 | Valid accuracy: 0.6667 | AUC-ROC: 0.6909\n",
      "Accuracy: 0.6667\n",
      "Epoch 12\n"
     ]
    },
    {
     "name": "stderr",
     "output_type": "stream",
     "text": [
      "100%|██████████| 22/22 [00:20<00:00,  1.09batch/s]\n"
     ]
    },
    {
     "name": "stdout",
     "output_type": "stream",
     "text": [
      "Train loss: 0.4351\n",
      "Valid loss: 0.6733 | Valid accuracy: 0.6190 | AUC-ROC: 0.6818\n",
      "Accuracy: 0.6190\n",
      "Epoch 13\n"
     ]
    },
    {
     "name": "stderr",
     "output_type": "stream",
     "text": [
      "100%|██████████| 22/22 [00:20<00:00,  1.08batch/s]\n"
     ]
    },
    {
     "name": "stdout",
     "output_type": "stream",
     "text": [
      "Train loss: 0.4219\n",
      "Valid loss: 0.7385 | Valid accuracy: 0.6667 | AUC-ROC: 0.6909\n",
      "Accuracy: 0.6667\n",
      "Epoch 14\n"
     ]
    },
    {
     "name": "stderr",
     "output_type": "stream",
     "text": [
      "100%|██████████| 22/22 [00:20<00:00,  1.07batch/s]\n"
     ]
    },
    {
     "name": "stdout",
     "output_type": "stream",
     "text": [
      "Train loss: 0.3901\n",
      "Valid loss: 0.6737 | Valid accuracy: 0.6667 | AUC-ROC: 0.7182\n",
      "Accuracy: 0.6667\n",
      "Epoch 15\n"
     ]
    },
    {
     "name": "stderr",
     "output_type": "stream",
     "text": [
      "100%|██████████| 22/22 [00:20<00:00,  1.05batch/s]\n"
     ]
    },
    {
     "name": "stdout",
     "output_type": "stream",
     "text": [
      "Train loss: 0.3509\n",
      "Valid loss: 0.6930 | Valid accuracy: 0.6667 | AUC-ROC: 0.7000\n",
      "Accuracy: 0.6667\n",
      "Epoch 16\n"
     ]
    },
    {
     "name": "stderr",
     "output_type": "stream",
     "text": [
      "100%|██████████| 22/22 [00:20<00:00,  1.06batch/s]\n"
     ]
    },
    {
     "name": "stdout",
     "output_type": "stream",
     "text": [
      "Train loss: 0.3379\n",
      "Valid loss: 0.6827 | Valid accuracy: 0.6667 | AUC-ROC: 0.7000\n",
      "Accuracy: 0.6667\n",
      "Epoch 17\n"
     ]
    },
    {
     "name": "stderr",
     "output_type": "stream",
     "text": [
      "100%|██████████| 22/22 [00:20<00:00,  1.05batch/s]\n"
     ]
    },
    {
     "name": "stdout",
     "output_type": "stream",
     "text": [
      "Train loss: 0.2900\n",
      "Valid loss: 0.6707 | Valid accuracy: 0.7143 | AUC-ROC: 0.7091\n",
      "Accuracy: 0.7143\n",
      "Epoch 18\n"
     ]
    },
    {
     "name": "stderr",
     "output_type": "stream",
     "text": [
      "100%|██████████| 22/22 [00:20<00:00,  1.09batch/s]\n"
     ]
    },
    {
     "name": "stdout",
     "output_type": "stream",
     "text": [
      "Train loss: 0.3520\n",
      "Valid loss: 0.6683 | Valid accuracy: 0.7143 | AUC-ROC: 0.7091\n",
      "Accuracy: 0.7143\n",
      "Epoch 19\n"
     ]
    },
    {
     "name": "stderr",
     "output_type": "stream",
     "text": [
      "100%|██████████| 22/22 [00:20<00:00,  1.05batch/s]\n"
     ]
    },
    {
     "name": "stdout",
     "output_type": "stream",
     "text": [
      "Train loss: 0.3144\n",
      "Valid loss: 0.6683 | Valid accuracy: 0.7143 | AUC-ROC: 0.7091\n",
      "Accuracy: 0.7143\n"
     ]
    }
   ],
   "source": [
    "torch.cuda.empty_cache()\n",
    "gc.collect()\n",
    "\n",
    "all_probs = []\n",
    "all_labels = []\n",
    "\n",
    "for fold in range(config.FOLDS):\n",
    "    gc.collect()\n",
    "    torch.cuda.empty_cache()\n",
    "    train_df = df[df['fold'] != fold]\n",
    "    valid_df = df[df['fold'] == fold]\n",
    "\n",
    "    train_dataset = AudioDataset(train_df, mode='train')\n",
    "    valid_dataset = AudioDataset(valid_df, mode='test')\n",
    "\n",
    "    train_loader = DataLoader(train_dataset, batch_size=config.BATCH_SIZE_TRAIN, shuffle=True, num_workers=config.NUM_WORKERS)\n",
    "    valid_loader = DataLoader(valid_dataset, batch_size=config.BATCH_SIZE_VALID, shuffle=False, num_workers=config.NUM_WORKERS)\n",
    "\n",
    "    model = AlzheimersModel().to(device)\n",
    "    optimizer = torch.optim.AdamW(model.parameters(), lr=config.MAX_LR, weight_decay=config.WEIGHT_DECAY)\n",
    "    scheduler = OneCycleLR(optimizer, \n",
    "                           max_lr=config.MAX_LR, \n",
    "                           epochs=config.EPOCHS, \n",
    "                           steps_per_epoch=len(train_loader), \n",
    "                           pct_start=0.1,\n",
    "                           anneal_strategy='cos',\n",
    "                           div_factor=10,\n",
    "                           final_div_factor=100\n",
    "                           )\n",
    "\n",
    "    train_losses = []\n",
    "    valid_losses = []\n",
    "    accs = []\n",
    "    aucs = []\n",
    "\n",
    "    for epoch in range(config.EPOCHS):\n",
    "        print(f'Epoch {epoch}')\n",
    "        train_loss = train_epoch(train_loader, model, optimizer, epoch, scheduler)\n",
    "\n",
    "        valid_loss, acc, auc, pr, al = evaluate(model, valid_loader)\n",
    "        print(f'Accuracy: {acc:.4f}')\n",
    "\n",
    "        train_losses.append(train_loss)\n",
    "        valid_losses.append(valid_loss)\n",
    "        accs.append(acc)\n",
    "        aucs.append(auc)\n",
    "\n",
    "    all_probs.append(pr)\n",
    "    all_labels.append(al)\n",
    "    torch.save(model.state_dict(), f'{paths.OUTPUT_DIR}model_{fold}.pth')\n",
    "    del model, optimizer, scheduler\n",
    "    gc.collect()\n",
    "    torch.cuda.empty_cache()\n",
    "    "
   ]
  },
  {
   "cell_type": "code",
   "execution_count": 81,
   "metadata": {},
   "outputs": [],
   "source": [
    "def flatten(xss):\n",
    "    return [x for xs in xss for x in xs]\n",
    "\n",
    "# Save probabilities and labels for each fold in csv\n",
    "all_probs_n = np.array(flatten(all_probs))\n",
    "all_labels_n = np.array(flatten(all_labels))\n",
    "res_df = pd.DataFrame({'probs': all_probs_n, 'labels': all_labels_n})\n",
    "res_df.to_csv(f'{paths.OUTPUT_DIR}probs_labels.csv', index=False)"
   ]
  },
  {
   "cell_type": "code",
   "execution_count": 82,
   "metadata": {},
   "outputs": [
    {
     "data": {
      "image/png": "[encoded data removed]",
      "text/plain": [
       "<Figure size 1000x500 with 2 Axes>"
      ]
     },
     "metadata": {},
     "output_type": "display_data"
    },
    {
     "data": {
      "image/png": "[encoded data removed]",
      "text/plain": [
       "<Figure size 640x480 with 1 Axes>"
      ]
     },
     "metadata": {},
     "output_type": "display_data"
    }
   ],
   "source": [
    "# Plot training and validation loss and acc\n",
    "plt.figure(figsize=(10, 5))\n",
    "plt.subplot(1, 2, 1)\n",
    "plt.plot(train_losses, label='train')\n",
    "plt.plot(valid_losses, label='valid')\n",
    "plt.legend()\n",
    "plt.title('Loss')\n",
    "plt.subplot(1, 2, 2)\n",
    "plt.plot(accs, label='valid')\n",
    "plt.legend()\n",
    "plt.title('Accuracy')\n",
    "plt.show()\n",
    "\n",
    "\n",
    "\n",
    "fpr, tpr, thresholds = roc_curve(flatten(all_labels), flatten(all_probs))\n",
    "auc_roc = roc_auc_score(flatten(all_labels), flatten(all_probs))\n",
    "\n",
    "# fpr, tpr, thresholds = roc_curve(all_labels[0], all_probs[0])\n",
    "# auc_roc = roc_auc_score(all_labels[0], all_probs[0])\n",
    "\n",
    "display = RocCurveDisplay(fpr=fpr, tpr=tpr, roc_auc=auc_roc, estimator_name='HuBERT')\n",
    "display.plot()\n",
    "\n",
    "# Add AUC = 0.5 line\n",
    "plt.plot([0, 1], [0, 1], linestyle='--', color='gray', label='Random (AUC = 0.5)')\n",
    "\n",
    "# Show the plot with legend\n",
    "plt.legend()\n",
    "plt.show()"
   ]
  }
 ],
 "metadata": {
  "kernelspec": {
   "display_name": ".venv",
   "language": "python",
   "name": "python3"
  },
  "language_info": {
   "codemirror_mode": {
    "name": "ipython",
    "version": 3
   },
   "file_extension": ".py",
   "mimetype": "text/x-python",
   "name": "python",
   "nbconvert_exporter": "python",
   "pygments_lexer": "ipython3",
   "version": "3.10.6"
  }
 },
 "nbformat": 4,
 "nbformat_minor": 2
}
